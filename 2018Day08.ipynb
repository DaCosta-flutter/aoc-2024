{
 "cells": [
  {
   "cell_type": "code",
   "metadata": {
    "collapsed": true,
    "ExecuteTime": {
     "end_time": "2024-12-01T11:02:38.465354Z",
     "start_time": "2024-12-01T11:02:38.363211Z"
    }
   },
   "source": [
    "import com.toldoven.aoc.notebook.AocClient\n",
    "\n",
    "val aoc = AocClient.fromEnv().interactiveDay(2018, 8)\n",
    "\n",
    "aoc.viewPartOne()"
   ],
   "outputs": [
    {
     "data": {
      "text/html": [
       "<h2>--- Day 8: Memory Maneuver ---</h2>\n",
       "<p>The sleigh is much easier to pull than you'd expect for something its weight. Unfortunately, neither you nor the Elves know <span title=\"It's North. Obviously.\">which way</span> the North Pole is from here.</p> \n",
       "<p>You check your wrist device for anything that might help. It seems to have some kind of navigation system! Activating the navigation system produces more bad news: \"Failed to start navigation system. Could not read software license file.\"</p> \n",
       "<p>The navigation system's license file consists of a list of numbers (your puzzle input). The numbers define a data structure which, when processed, produces some kind of <a href=\"https://en.wikipedia.org/wiki/Tree_(data_structure)\">tree</a> that can be used to calculate the license number.</p> \n",
       "<p>The <em>tree</em> is made up of <em>nodes</em>; a single, outermost node forms the tree's <em>root</em>, and it contains all other nodes in the tree (or contains nodes that contain nodes, and so on).</p> \n",
       "<p>Specifically, a node consists of:</p> \n",
       "<ul> \n",
       " <li>A <em>header</em>, which is always exactly two numbers: \n",
       "  <ul> \n",
       "   <li>The quantity of child nodes.</li> \n",
       "   <li>The quantity of metadata entries.</li> \n",
       "  </ul> </li>\n",
       " <li>Zero or more <em>child nodes</em> (as specified in the header).</li> \n",
       " <li>One or more <em>metadata entries</em> (as specified in the header).</li> \n",
       "</ul> \n",
       "<p>Each child node is itself a node that has its own header, child nodes, and metadata. For example:</p> \n",
       "<pre><code>2 3 0 3 10 11 12 1 1 0 1 99 2 1 1 2\n",
       "A----------------------------------\n",
       "    B----------- C-----------\n",
       "                     D-----\n",
       "</code></pre> \n",
       "<p>In this example, each node of the tree is also marked with an underline starting with a letter for easier identification. In it, there are four nodes:</p> \n",
       "<ul> \n",
       " <li><code>A</code>, which has <code>2</code> child nodes (<code>B</code>, <code>C</code>) and <code>3</code> metadata entries (<code>1</code>, <code>1</code>, <code>2</code>).</li> \n",
       " <li><code>B</code>, which has <code>0</code> child nodes and <code>3</code> metadata entries (<code>10</code>, <code>11</code>, <code>12</code>).</li> \n",
       " <li><code>C</code>, which has <code>1</code> child node (<code>D</code>) and <code>1</code> metadata entry (<code>2</code>).</li> \n",
       " <li><code>D</code>, which has <code>0</code> child nodes and <code>1</code> metadata entry (<code>99</code>).</li> \n",
       "</ul> \n",
       "<p>The first check done on the license file is to simply add up all of the metadata entries. In this example, that sum is <code>1+1+2+10+11+12+2+99=<em>138</em></code>.</p> \n",
       "<p><em>What is the sum of all metadata entries?</em></p>"
      ]
     },
     "execution_count": 1,
     "metadata": {},
     "output_type": "execute_result"
    }
   ],
   "execution_count": 1
  },
  {
   "metadata": {},
   "cell_type": "code",
   "source": [
    "val input = aoc.input()\n",
    "input"
   ],
   "outputs": [],
   "execution_count": null
  },
  {
   "metadata": {
    "ExecuteTime": {
     "end_time": "2024-12-01T11:14:02.196216Z",
     "start_time": "2024-12-01T11:14:01.896317Z"
    }
   },
   "cell_type": "code",
   "source": [
    "data class Node(\n",
    "    val numChilds: Int,\n",
    "    val numMetadata: Int,\n",
    "    val children: List<Node>,\n",
    "    val metadataEntries: List<Int>\n",
    ")\n",
    "\n",
    "var currentIdx = 0\n",
    "val inputNums = input[0].split(\" \")\n",
    "var metadataSum = 0\n",
    "\n",
    "fun readNode(): Node {\n",
    "    val numChilds = inputNums[currentIdx++].toInt()\n",
    "    val numMetadata = inputNums[currentIdx++].toInt()\n",
    "    val nodes = (0 until numChilds).map { readNode() }\n",
    "    val metadata = (0 until numMetadata).map { inputNums[currentIdx++].toInt() }\n",
    "    metadataSum += metadata.sum()\n",
    "    return Node(numMetadata, numMetadata, nodes, metadata)\n",
    "}\n",
    "\n",
    "val rootNode = readNode()\n",
    "metadataSum"
   ],
   "outputs": [
    {
     "data": {
      "text/plain": [
       "36566"
      ]
     },
     "execution_count": 8,
     "metadata": {},
     "output_type": "execute_result"
    }
   ],
   "execution_count": 8
  },
  {
   "metadata": {
    "ExecuteTime": {
     "end_time": "2024-12-01T11:14:12.427002Z",
     "start_time": "2024-12-01T11:14:11.356698Z"
    }
   },
   "cell_type": "code",
   "source": "aoc.submitPartOne(metadataSum)",
   "outputs": [
    {
     "data": {
      "text/html": [
       "<div>\n",
       "    <p>Your answer: 36566.</p>\n",
       "    <p>That's the right answer! You are <span class=\"day-success\">one gold star</span> closer to fixing the time stream. <a href=\"/2018/day/8#part2\">[Continue to Part Two]</a></p>\n",
       "</div>"
      ]
     },
     "execution_count": 9,
     "metadata": {},
     "output_type": "execute_result"
    }
   ],
   "execution_count": 9
  },
  {
   "metadata": {
    "ExecuteTime": {
     "end_time": "2024-12-01T11:14:18.789666Z",
     "start_time": "2024-12-01T11:14:18.167433Z"
    }
   },
   "cell_type": "code",
   "source": "aoc.viewPartTwo()",
   "outputs": [
    {
     "data": {
      "text/html": [
       "<h2 id=\"part2\">--- Part Two ---</h2>\n",
       "<p>The second check is slightly more complicated: you need to find the value of the root node (<code>A</code> in the example above).</p> \n",
       "<p>The <em>value of a node</em> depends on whether it has child nodes.</p> \n",
       "<p>If a node has <em>no child nodes</em>, its value is the sum of its metadata entries. So, the value of node <code>B</code> is <code>10+11+12=33</code>, and the value of node <code>D</code> is <code>99</code>.</p> \n",
       "<p>However, if a node <em>does have child nodes</em>, the metadata entries become indexes which refer to those child nodes. A metadata entry of <code>1</code> refers to the first child node, <code>2</code> to the second, <code>3</code> to the third, and so on. The value of this node is the sum of the values of the child nodes referenced by the metadata entries. If a referenced child node does not exist, that reference is skipped. A child node can be referenced multiple time and counts each time it is referenced. A metadata entry of <code>0</code> does not refer to any child node.</p> \n",
       "<p>For example, again using the above nodes:</p> \n",
       "<ul> \n",
       " <li>Node <code>C</code> has one metadata entry, <code>2</code>. Because node <code>C</code> has only one child node, <code>2</code> references a child node which does not exist, and so the value of node <code>C</code> is <code>0</code>.</li> \n",
       " <li>Node <code>A</code> has three metadata entries: <code>1</code>, <code>1</code>, and <code>2</code>. The <code>1</code> references node <code>A</code>'s first child node, <code>B</code>, and the <code>2</code> references node <code>A</code>'s second child node, <code>C</code>. Because node B has a value of <code>33</code> and node <code>C</code> has a value of <code>0</code>, the value of node <code>A</code> is <code>33+33+0=<em>66</em></code>.</li> \n",
       "</ul> \n",
       "<p>So, in this example, the value of the root node is <code>66</code>.</p> \n",
       "<p><em>What is the value of the root node?</em></p>"
      ]
     },
     "execution_count": 10,
     "metadata": {},
     "output_type": "execute_result"
    }
   ],
   "execution_count": 10
  },
  {
   "metadata": {
    "ExecuteTime": {
     "end_time": "2024-12-01T11:18:58.927791Z",
     "start_time": "2024-12-01T11:18:58.106080Z"
    }
   },
   "cell_type": "code",
   "source": [
    "fun Node.value(): Int {\n",
    "    if (this.children.isEmpty()) {\n",
    "        return this.metadataEntries.sum()\n",
    "    }\n",
    "    return this.metadataEntries\n",
    "        .filter { (it - 1) in this.children.indices && it > 0 }\n",
    "        .sumOf {\n",
    "            this.children[it - 1].value()\n",
    "        }\n",
    "}\n",
    "\n",
    "aoc.submitPartTwo(rootNode.value())"
   ],
   "outputs": [
    {
     "data": {
      "text/html": [
       "        <div>\n",
       "            <p>Your answer: 30548.</p>\n",
       "            <p>That's the right answer! You are <span class=\"day-success\">one gold star</span> closer to fixing the time stream.</p>\n",
       "<p>You have completed Day 8! You can <span class=\"share\">[Share<span class=\"share-content\">on <a href=\"https://bsky.app/intent/compose?text=I+just+completed+%22Memory+Maneuver%22+%2D+Day+8+%2D+Advent+of+Code+2018+%23AdventOfCode+https%3A%2F%2Fadventofcode%2Ecom%2F2018%2Fday%2F8\" target=\"_blank\">Bluesky</a> <a href=\"https://twitter.com/intent/tweet?text=I+just+completed+%22Memory+Maneuver%22+%2D+Day+8+%2D+Advent+of+Code+2018&amp;url=https%3A%2F%2Fadventofcode%2Ecom%2F2018%2Fday%2F8&amp;related=ericwastl&amp;hashtags=AdventOfCode\" target=\"_blank\">Twitter</a> <a href=\"javascript:void(0);\" onclick=\"var ms; try{ms=localStorage.getItem('mastodon.server')}finally{} if(typeof ms!=='string')ms=''; ms=prompt('Mastodon Server?',ms); if(typeof ms==='string' &amp;&amp; ms.length){this.href='https://'+ms+'/share?text=I+just+completed+%22Memory+Maneuver%22+%2D+Day+8+%2D+Advent+of+Code+2018+%23AdventOfCode+https%3A%2F%2Fadventofcode%2Ecom%2F2018%2Fday%2F8';try{localStorage.setItem('mastodon.server',ms);}finally{}}else{return false;}\" target=\"_blank\">Mastodon</a></span>]</span> this victory or <a href=\"/2018\">[Return to Your Advent Calendar]</a>.</p>\n",
       "        </div>"
      ]
     },
     "execution_count": 13,
     "metadata": {},
     "output_type": "execute_result"
    }
   ],
   "execution_count": 13
  },
  {
   "metadata": {},
   "cell_type": "code",
   "outputs": [],
   "execution_count": null,
   "source": ""
  }
 ],
 "metadata": {
  "kernelspec": {
   "display_name": "Kotlin",
   "language": "kotlin",
   "name": "kotlin"
  },
  "language_info": {
   "name": "kotlin",
   "version": "1.9.23",
   "mimetype": "text/x-kotlin",
   "file_extension": ".kt",
   "pygments_lexer": "kotlin",
   "codemirror_mode": "text/x-kotlin",
   "nbconvert_exporter": ""
  },
  "ktnbPluginMetadata": {
   "projectDependencies": [
    "aoc.main"
   ]
  }
 },
 "nbformat": 4,
 "nbformat_minor": 0
}
