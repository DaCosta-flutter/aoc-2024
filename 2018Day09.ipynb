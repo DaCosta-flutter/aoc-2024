{
 "cells": [
  {
   "cell_type": "code",
   "metadata": {
    "collapsed": true,
    "ExecuteTime": {
     "end_time": "2024-12-01T11:19:19.520841Z",
     "start_time": "2024-12-01T11:19:19.471406Z"
    }
   },
   "source": [
    "import com.toldoven.aoc.notebook.AocClient\n",
    "\n",
    "val aoc = AocClient.fromEnv().interactiveDay(2018, 9)\n",
    "\n",
    "aoc.viewPartOne()"
   ],
   "outputs": [
    {
     "data": {
      "text/html": [
       "<h2>--- Day 9: Marble Mania ---</h2>\n",
       "<p>You talk to the Elves while you wait for your navigation system to <span title=\"Do you have any idea how long it takes to load navigation data for all of time and space?!\">initialize</span>. To pass the time, they introduce you to their favorite <a href=\"https://en.wikipedia.org/wiki/Marble_(toy)\">marble</a> game.</p> \n",
       "<p>The Elves play this game by taking turns arranging the marbles in a <em>circle</em> according to very particular rules. The marbles are numbered starting with <code>0</code> and increasing by <code>1</code> until every marble has a number.</p> \n",
       "<p>First, the marble numbered <code>0</code> is placed in the circle. At this point, while it contains only a single marble, it is still a circle: the marble is both clockwise from itself and counter-clockwise from itself. This marble is designated the <em>current marble</em>.</p> \n",
       "<p>Then, each Elf takes a turn placing the <em>lowest-numbered remaining marble</em> into the circle between the marbles that are <code>1</code> and <code>2</code> marbles <em>clockwise</em> of the current marble. (When the circle is large enough, this means that there is one marble between the marble that was just placed and the current marble.) The marble that was just placed then becomes the <em>current marble</em>.</p> \n",
       "<p>However, if the marble that is about to be placed has a number which is a multiple of <code>23</code>, <em>something entirely different happens</em>. First, the current player keeps the marble they would have placed, adding it to their <em>score</em>. In addition, the marble <code>7</code> marbles <em>counter-clockwise</em> from the current marble is <em>removed</em> from the circle and <em>also</em> added to the current player's score. The marble located immediately <em>clockwise</em> of the marble that was removed becomes the new <em>current marble</em>.</p> \n",
       "<p>For example, suppose there are 9 players. After the marble with value <code>0</code> is placed in the middle, each player (shown in square brackets) takes a turn. The result of each of those turns would produce circles of marbles like this, where clockwise is to the right and the resulting current marble is in parentheses:</p> \n",
       "<pre><code>[-] <em>(0)</em>\n",
       "[1]  0<em> (1)</em>\n",
       "[2]  0<em> (2)</em> 1 \n",
       "[3]  0  2  1<em> (3)</em>\n",
       "[4]  0<em> (4)</em> 2  1  3 \n",
       "[5]  0  4  2<em> (5)</em> 1  3 \n",
       "[6]  0  4  2  5  1<em> (6)</em> 3 \n",
       "[7]  0  4  2  5  1  6  3<em> (7)</em>\n",
       "[8]  0<em> (8)</em> 4  2  5  1  6  3  7 \n",
       "[9]  0  8  4<em> (9)</em> 2  5  1  6  3  7 \n",
       "[1]  0  8  4  9  2<em>(10)</em> 5  1  6  3  7 \n",
       "[2]  0  8  4  9  2 10  5<em>(11)</em> 1  6  3  7 \n",
       "[3]  0  8  4  9  2 10  5 11  1<em>(12)</em> 6  3  7 \n",
       "[4]  0  8  4  9  2 10  5 11  1 12  6<em>(13)</em> 3  7 \n",
       "[5]  0  8  4  9  2 10  5 11  1 12  6 13  3<em>(14)</em> 7 \n",
       "[6]  0  8  4  9  2 10  5 11  1 12  6 13  3 14  7<em>(15)</em>\n",
       "[7]  0<em>(16)</em> 8  4  9  2 10  5 11  1 12  6 13  3 14  7 15 \n",
       "[8]  0 16  8<em>(17)</em> 4  9  2 10  5 11  1 12  6 13  3 14  7 15 \n",
       "[9]  0 16  8 17  4<em>(18)</em> 9  2 10  5 11  1 12  6 13  3 14  7 15 \n",
       "[1]  0 16  8 17  4 18  9<em>(19)</em> 2 10  5 11  1 12  6 13  3 14  7 15 \n",
       "[2]  0 16  8 17  4 18  9 19  2<em>(20)</em>10  5 11  1 12  6 13  3 14  7 15 \n",
       "[3]  0 16  8 17  4 18  9 19  2 20 10<em>(21)</em> 5 11  1 12  6 13  3 14  7 15 \n",
       "[4]  0 16  8 17  4 18  9 19  2 20 10 21  5<em>(22)</em>11  1 12  6 13  3 14  7 15 \n",
       "[5]  0 16  8 17  4 18<em>(19)</em> 2 20 10 21  5 22 11  1 12  6 13  3 14  7 15 \n",
       "[6]  0 16  8 17  4 18 19  2<em>(24)</em>20 10 21  5 22 11  1 12  6 13  3 14  7 15 \n",
       "[7]  0 16  8 17  4 18 19  2 24 20<em>(25)</em>10 21  5 22 11  1 12  6 13  3 14  7 15\n",
       "</code></pre> \n",
       "<p>The goal is to be the <em>player with the highest score</em> after the last marble is used up. Assuming the example above ends after the marble numbered <code>25</code>, the winning score is <code>23+9=<em>32</em></code> (because player 5 kept marble <code>23</code> and removed marble <code>9</code>, while no other player got any points in this very short example game).</p> \n",
       "<p>Here are a few more examples:</p> \n",
       "<ul> \n",
       " <li><code>10</code> players; last marble is worth <code>1618</code> points: high score is <em><code>8317</code></em></li> \n",
       " <li><code>13</code> players; last marble is worth <code>7999</code> points: high score is <em><code>146373</code></em></li> \n",
       " <li><code>17</code> players; last marble is worth <code>1104</code> points: high score is <em><code>2764</code></em></li> \n",
       " <li><code>21</code> players; last marble is worth <code>6111</code> points: high score is <em><code>54718</code></em></li> \n",
       " <li><code>30</code> players; last marble is worth <code>5807</code> points: high score is <em><code>37305</code></em></li> \n",
       "</ul> \n",
       "<p><em>What is the winning Elf's score?</em></p>"
      ]
     },
     "execution_count": 2,
     "metadata": {},
     "output_type": "execute_result"
    }
   ],
   "execution_count": 2
  },
  {
   "metadata": {},
   "cell_type": "code",
   "outputs": [],
   "execution_count": null,
   "source": "//25, 10, 21, 5, 22, 11, 1, 12, 6, 13, 3, 14, 7, 15, 0, 16, 8, 17, 4, 18, 19, 2, 24, 20, 25, 10, 21, 5, 22, 11, 1,"
  },
  {
   "metadata": {
    "ExecuteTime": {
     "end_time": "2024-12-01T11:19:42.246222Z",
     "start_time": "2024-12-01T11:19:42.173377Z"
    }
   },
   "cell_type": "code",
   "source": [
    "\n",
    "val input = aoc.input()\n",
    "input"
   ],
   "outputs": [
    {
     "data": {
      "text/plain": [
       "[411 players; last marble is worth 71170 points]"
      ]
     },
     "execution_count": 6,
     "metadata": {},
     "output_type": "execute_result"
    }
   ],
   "execution_count": 6
  },
  {
   "metadata": {
    "ExecuteTime": {
     "end_time": "2024-12-01T12:27:47.714879Z",
     "start_time": "2024-12-01T12:27:47.544277Z"
    }
   },
   "cell_type": "code",
   "source": [
    "data class Marble(\n",
    "    val value: Long,\n",
    "    var previous: Marble?,\n",
    "    var next: Marble?,\n",
    ")\n",
    "\n",
    "fun Marble.clockwise(numTimes: Int = 1): Marble {\n",
    "    return if (numTimes == 1) this.next!! else this.next!!.clockwise(numTimes - 1)\n",
    "}\n",
    "\n",
    "fun Marble.counterClockwise(numTimes: Int = 1): Marble {\n",
    "    return if (numTimes == 1) this.previous!! else this.previous!!.counterClockwise(numTimes - 1)\n",
    "}\n",
    "\n",
    "fun Marble.addMarbleNext(value: Long): Marble {\n",
    "    val newMarble = Marble(value, this, this.next)\n",
    "    this.next!!.previous = newMarble\n",
    "    this.next = newMarble\n",
    "    return newMarble\n",
    "}\n",
    "\n",
    "fun Marble.removeMarble(): Marble {\n",
    "    this.previous!!.next = this.next\n",
    "    this.next!!.previous = this.previous\n",
    "    return this.next!!\n",
    "}\n",
    "\n",
    "fun Marble.printNext(numToPrint: Int) {\n",
    "    print(\"${this.value}, \")\n",
    "    if (numToPrint > 0) {\n",
    "        this.next!!.printNext(numToPrint - 1)\n",
    "    }\n",
    "}\n",
    "\n",
    "var currentMarble = Marble(0, null, null).apply {\n",
    "    this.next = this\n",
    "    this.previous = this\n",
    "}\n",
    "\n",
    "currentMarble = currentMarble.clockwise(1).addMarbleNext(1)\n",
    "currentMarble = currentMarble.clockwise(1).addMarbleNext(2)\n",
    "currentMarble = currentMarble.clockwise(1).addMarbleNext(3)\n",
    "currentMarble = currentMarble.clockwise(1).addMarbleNext(4)\n",
    "\n",
    "println(currentMarble.value)\n",
    "println(currentMarble.clockwise(1).value)\n",
    "println(currentMarble.clockwise(2).value)\n",
    "println(currentMarble.clockwise(3).value)\n",
    "println(currentMarble.clockwise(4).value)\n",
    "println(currentMarble.clockwise(5).value)\n",
    "\n"
   ],
   "outputs": [
    {
     "name": "stdout",
     "output_type": "stream",
     "text": [
      "4\n",
      "2\n",
      "1\n",
      "3\n",
      "0\n",
      "4\n"
     ]
    }
   ],
   "execution_count": 58
  },
  {
   "metadata": {
    "ExecuteTime": {
     "end_time": "2024-12-01T12:28:28.114722Z",
     "start_time": "2024-12-01T12:28:27.618561Z"
    }
   },
   "cell_type": "code",
   "source": [
    "currentMarble = Marble(0, null, null).apply {\n",
    "    this.next = this\n",
    "    this.previous = this\n",
    "}\n",
    "var scoreByPlayer = mutableMapOf<Int, Long>()\n",
    "var currentMarble = Marble(0, null, null).apply {\n",
    "    this.next = this\n",
    "    this.previous = this\n",
    "}\n",
    "\n",
    "val numPlayers = 411\n",
    "val numMarbles = 71170*100\n",
    "//val numPlayer = 9\n",
    "//val numMarbles = 25\n",
    "\n",
    "for (marbleNum in 1..numMarbles) {\n",
    "    if (marbleNum % 23 == 0) {\n",
    "        val toRemove = currentMarble.counterClockwise(7)\n",
    "        currentMarble = toRemove.removeMarble()\n",
    "        val currentPlayer = (marbleNum) % (numPlayers)\n",
    "        scoreByPlayer.merge(currentPlayer, toRemove.value + marbleNum.toLong(), { a, b -> a + b })\n",
    "    } else {\n",
    "        currentMarble = currentMarble.clockwise(1).addMarbleNext(marbleNum.toLong())\n",
    "    }\n",
    "}\n",
    "\n",
    "currentMarble.printNext(30)\n",
    "\n"
   ],
   "outputs": [
    {
     "name": "stdout",
     "output_type": "stream",
     "text": [
      "7117000, 575504, 3077622, 1330863, 3077623, 575510, 3077624, 1330864, 3077625, 3077626, 1330865, 3077631, 3077627, 3077632, 575511, 3077633, 3077628, 3077634, 1330866, 3077635, 3077629, 3077636, 575505, 3077637, 1330867, 3077638, 1330868, 3077639, 248869, 3077640, 1330873, "
     ]
    }
   ],
   "execution_count": 60
  },
  {
   "metadata": {
    "ExecuteTime": {
     "end_time": "2024-12-01T12:28:31.879819Z",
     "start_time": "2024-12-01T12:28:31.841821Z"
    }
   },
   "cell_type": "code",
   "source": "scoreByPlayer.maxBy { it.value }",
   "outputs": [
    {
     "data": {
      "text/plain": [
       "241=3526561003"
      ]
     },
     "execution_count": 61,
     "metadata": {},
     "output_type": "execute_result"
    }
   ],
   "execution_count": 61
  },
  {
   "metadata": {
    "ExecuteTime": {
     "end_time": "2024-12-01T12:28:39.886017Z",
     "start_time": "2024-12-01T12:28:39.238900Z"
    }
   },
   "cell_type": "code",
   "source": "aoc.submitPartTwo(3526561003L)",
   "outputs": [
    {
     "data": {
      "text/html": [
       "        <div>\n",
       "            <p>Your answer: 3526561003.</p>\n",
       "            <p>That's the right answer! You are <span class=\"day-success\">one gold star</span> closer to fixing the time stream.</p>\n",
       "<p>You have completed Day 9! You can <span class=\"share\">[Share<span class=\"share-content\">on <a href=\"https://bsky.app/intent/compose?text=I+just+completed+%22Marble+Mania%22+%2D+Day+9+%2D+Advent+of+Code+2018+%23AdventOfCode+https%3A%2F%2Fadventofcode%2Ecom%2F2018%2Fday%2F9\" target=\"_blank\">Bluesky</a> <a href=\"https://twitter.com/intent/tweet?text=I+just+completed+%22Marble+Mania%22+%2D+Day+9+%2D+Advent+of+Code+2018&amp;url=https%3A%2F%2Fadventofcode%2Ecom%2F2018%2Fday%2F9&amp;related=ericwastl&amp;hashtags=AdventOfCode\" target=\"_blank\">Twitter</a> <a href=\"javascript:void(0);\" onclick=\"var ms; try{ms=localStorage.getItem('mastodon.server')}finally{} if(typeof ms!=='string')ms=''; ms=prompt('Mastodon Server?',ms); if(typeof ms==='string' &amp;&amp; ms.length){this.href='https://'+ms+'/share?text=I+just+completed+%22Marble+Mania%22+%2D+Day+9+%2D+Advent+of+Code+2018+%23AdventOfCode+https%3A%2F%2Fadventofcode%2Ecom%2F2018%2Fday%2F9';try{localStorage.setItem('mastodon.server',ms);}finally{}}else{return false;}\" target=\"_blank\">Mastodon</a></span>]</span> this victory or <a href=\"/2018\">[Return to Your Advent Calendar]</a>.</p>\n",
       "        </div>"
      ]
     },
     "execution_count": 62,
     "metadata": {},
     "output_type": "execute_result"
    }
   ],
   "execution_count": 62
  },
  {
   "metadata": {
    "ExecuteTime": {
     "end_time": "2024-12-01T12:24:30.243136Z",
     "start_time": "2024-12-01T12:24:29.813481Z"
    }
   },
   "cell_type": "code",
   "source": "aoc.viewPartTwo()",
   "outputs": [
    {
     "data": {
      "text/html": [
       "<h2 id=\"part2\">--- Part Two ---</h2>\n",
       "<p>Amused by the speed of your answer, the Elves are curious:</p> \n",
       "<p><em>What would the new winning Elf's score be if the number of the last marble were 100 times larger?</em></p>"
      ]
     },
     "execution_count": 54,
     "metadata": {},
     "output_type": "execute_result"
    }
   ],
   "execution_count": 54
  },
  {
   "metadata": {},
   "cell_type": "code",
   "outputs": [],
   "execution_count": null,
   "source": ""
  }
 ],
 "metadata": {
  "kernelspec": {
   "display_name": "Kotlin",
   "language": "kotlin",
   "name": "kotlin"
  },
  "language_info": {
   "name": "kotlin",
   "version": "1.9.23",
   "mimetype": "text/x-kotlin",
   "file_extension": ".kt",
   "pygments_lexer": "kotlin",
   "codemirror_mode": "text/x-kotlin",
   "nbconvert_exporter": ""
  },
  "ktnbPluginMetadata": {
   "projectDependencies": [
    "aoc.main"
   ]
  }
 },
 "nbformat": 4,
 "nbformat_minor": 0
}
