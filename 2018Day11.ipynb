{
 "cells": [
  {
   "cell_type": "code",
   "metadata": {
    "collapsed": true,
    "ExecuteTime": {
     "end_time": "2024-12-03T09:03:39.833830Z",
     "start_time": "2024-12-03T09:03:39.713211Z"
    }
   },
   "source": [
    "import com.toldoven.aoc.notebook.AocClient\n",
    "\n",
    "val aoc = AocClient.fromEnv().interactiveDay(2018, 12)\n",
    "\n",
    "aoc.viewPartOne()"
   ],
   "outputs": [
    {
     "data": {
      "text/html": [
       "<h2>--- Day 12: Subterranean Sustainability ---</h2>\n",
       "<p>The year 518 is significantly more underground than your history books implied. Either that, or you've arrived in a <span title=\"It's probably this one. Can never be too sure, though.\">vast cavern network</span> under the North Pole.</p> \n",
       "<p>After exploring a little, you discover a long tunnel that contains a row of small pots as far as you can see to your left and right. A few of them contain plants - someone is trying to grow things in these geothermally-heated caves.</p> \n",
       "<p>The pots are numbered, with <code>0</code> in front of you. To the left, the pots are numbered <code>-1</code>, <code>-2</code>, <code>-3</code>, and so on; to the right, <code>1</code>, <code>2</code>, <code>3</code>.... Your puzzle input contains a list of pots from <code>0</code> to the right and whether they do (<code>#</code>) or do not (<code>.</code>) currently contain a plant, the <em>initial state</em>. (No other pots currently contain plants.) For example, an initial state of <code>#..##....</code> indicates that pots <code>0</code>, <code>3</code>, and <code>4</code> currently contain plants.</p> \n",
       "<p>Your puzzle input also contains some notes you find on a nearby table: someone has been trying to figure out how these plants <em>spread</em> to nearby pots. Based on the notes, for each generation of plants, a given pot has or does not have a plant based on whether that pot (and the two pots on either side of it) had a plant in the last generation. These are written as <code>LLCRR =&gt; N</code>, where <code>L</code> are pots to the left, <code>C</code> is the current pot being considered, <code>R</code> are the pots to the right, and <code>N</code> is whether the current pot will have a plant in the next generation. For example:</p> \n",
       "<ul> \n",
       " <li>A note like <code>..#.. =&gt; .</code> means that a pot that contains a plant but with no plants within two pots of it will not have a plant in it during the next generation.</li> \n",
       " <li>A note like <code>##.## =&gt; .</code> means that an empty pot with two plants on each side of it will remain empty in the next generation.</li> \n",
       " <li>A note like <code>.##.# =&gt; #</code> means that a pot has a plant in a given generation if, in the previous generation, there were plants in that pot, the one immediately to the left, and the one two pots to the right, but not in the ones immediately to the right and two to the left.</li> \n",
       "</ul> \n",
       "<p>It's not clear what these plants are for, but you're sure it's important, so you'd like to make sure the current configuration of plants is sustainable by determining what will happen after <em><code>20</code> generations</em>.</p> \n",
       "<p>For example, given the following input:</p> \n",
       "<pre><code>initial state: #..#.#..##......###...###\n",
       "\n",
       "...## =&gt; #\n",
       "..#.. =&gt; #\n",
       ".#... =&gt; #\n",
       ".#.#. =&gt; #\n",
       ".#.## =&gt; #\n",
       ".##.. =&gt; #\n",
       ".#### =&gt; #\n",
       "#.#.# =&gt; #\n",
       "#.### =&gt; #\n",
       "##.#. =&gt; #\n",
       "##.## =&gt; #\n",
       "###.. =&gt; #\n",
       "###.# =&gt; #\n",
       "####. =&gt; #\n",
       "</code></pre> \n",
       "<p>For brevity, in this example, only the combinations which do produce a plant are listed. (Your input includes all possible combinations.) Then, the next 20 generations will look like this:</p> \n",
       "<pre><code>                 1         2         3     \n",
       "       0         0         0         0     \n",
       " 0: ...#..#.#..##......###...###...........\n",
       " 1: ...#...#....#.....#..#..#..#...........\n",
       " 2: ...##..##...##....#..#..#..##..........\n",
       " 3: ..#.#...#..#.#....#..#..#...#..........\n",
       " 4: ...#.#..#...#.#...#..#..##..##.........\n",
       " 5: ....#...##...#.#..#..#...#...#.........\n",
       " 6: ....##.#.#....#...#..##..##..##........\n",
       " 7: ...#..###.#...##..#...#...#...#........\n",
       " 8: ...#....##.#.#.#..##..##..##..##.......\n",
       " 9: ...##..#..#####....#...#...#...#.......\n",
       "10: ..#.#..#...#.##....##..##..##..##......\n",
       "11: ...#...##...#.#...#.#...#...#...#......\n",
       "12: ...##.#.#....#.#...#.#..##..##..##.....\n",
       "13: ..#..###.#....#.#...#....#...#...#.....\n",
       "14: ..#....##.#....#.#..##...##..##..##....\n",
       "15: ..##..#..#.#....#....#..#.#...#...#....\n",
       "16: .#.#..#...#.#...##...#...#.#..##..##...\n",
       "17: ..#...##...#.#.#.#...##...#....#...#...\n",
       "18: ..##.#.#....#####.#.#.#...##...##..##..\n",
       "19: .#..###.#..#.#.#######.#.#.#..#.#...#..\n",
       "20: .#....##....#####...#######....#.#..##.\n",
       "</code></pre> \n",
       "<p>The generation is shown along the left, where <code>0</code> is the initial state. The pot numbers are shown along the top, where <code>0</code> labels the center pot, negative-numbered pots extend to the left, and positive pots extend toward the right. Remember, the initial state begins at pot <code>0</code>, which is not the leftmost pot used in this example.</p> \n",
       "<p>After one generation, only seven plants remain. The one in pot <code>0</code> matched the rule looking for <code>..#..</code>, the one in pot <code>4</code> matched the rule looking for <code>.#.#.</code>, pot <code>9</code> matched <code>.##..</code>, and so on.</p> \n",
       "<p>In this example, after 20 generations, the pots shown as <code>#</code> contain plants, the furthest left of which is pot <code>-2</code>, and the furthest right of which is pot <code>34</code>. Adding up all the numbers of plant-containing pots after the 20th generation produces <code><em>325</em></code>.</p> \n",
       "<p><em>After <code>20</code> generations, what is the sum of the numbers of all pots which contain a plant?</em></p>"
      ]
     },
     "execution_count": 2,
     "metadata": {},
     "output_type": "execute_result"
    }
   ],
   "execution_count": 2
  },
  {
   "metadata": {
    "ExecuteTime": {
     "end_time": "2024-12-03T09:01:27.627827Z",
     "start_time": "2024-12-03T08:58:08.661422Z"
    }
   },
   "cell_type": "code",
   "source": [
    "val input = aoc.input()\n",
    "input"
   ],
   "outputs": [
    {
     "data": {
      "text/plain": [
       "[9435]"
      ]
     },
     "execution_count": 5,
     "metadata": {},
     "output_type": "execute_result"
    }
   ],
   "execution_count": 5
  },
  {
   "metadata": {
    "ExecuteTime": {
     "end_time": "2024-12-03T09:01:27.627968Z",
     "start_time": "2024-12-03T08:57:25.815375Z"
    }
   },
   "cell_type": "code",
   "source": "",
   "outputs": [],
   "execution_count": null
  }
 ],
 "metadata": {
  "kernelspec": {
   "display_name": "Kotlin",
   "language": "kotlin",
   "name": "kotlin"
  },
  "language_info": {
   "name": "kotlin",
   "version": "1.9.23",
   "mimetype": "text/x-kotlin",
   "file_extension": ".kt",
   "pygments_lexer": "kotlin",
   "codemirror_mode": "text/x-kotlin",
   "nbconvert_exporter": ""
  },
  "ktnbPluginMetadata": {
   "projectDependencies": [
    "aoc.main"
   ]
  }
 },
 "nbformat": 4,
 "nbformat_minor": 0
}
