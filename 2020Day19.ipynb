{
 "cells": [
  {
   "cell_type": "code",
   "metadata": {
    "collapsed": true,
    "ExecuteTime": {
     "end_time": "2024-12-04T19:34:19.764661Z",
     "start_time": "2024-12-04T19:34:19.636032Z"
    }
   },
   "source": [
    "import com.toldoven.aoc.notebook.AocClient\n",
    "\n",
    "val aoc = AocClient.fromEnv().interactiveDay(2020, 19)\n",
    "\n",
    "aoc.viewPartOne()"
   ],
   "outputs": [
    {
     "data": {
      "text/html": [
       "<h2>--- Day 19: Monster Messages ---</h2>\n",
       "<p>You land in an airport surrounded by dense forest. As you walk to your high-speed train, the Elves at the <span title=\"This is a purely fictional organization. Any resemblance to actual organizations, past or present, is purely coincidental.\">Mythical Information Bureau</span> contact you again. They think their satellite has collected an image of a <em>sea monster</em>! Unfortunately, the connection to the satellite is having problems, and many of the messages sent back from the satellite have been corrupted.</p> \n",
       "<p>They sent you a list of <em>the rules valid messages should obey</em> and a list of <em>received messages</em> they've collected so far (your puzzle input).</p> \n",
       "<p>The <em>rules for valid messages</em> (the top part of your puzzle input) are numbered and build upon each other. For example:</p> \n",
       "<pre><code>0: 1 2\n",
       "1: \"a\"\n",
       "2: 1 3 | 3 1\n",
       "3: \"b\"\n",
       "</code></pre> \n",
       "<p>Some rules, like <code>3: \"b\"</code>, simply match a single character (in this case, <code>b</code>).</p> \n",
       "<p>The remaining rules list the sub-rules that must be followed; for example, the rule <code>0: 1 2</code> means that to match rule <code>0</code>, the text being checked must match rule <code>1</code>, and the text after the part that matched rule <code>1</code> must then match rule <code>2</code>.</p> \n",
       "<p>Some of the rules have multiple lists of sub-rules separated by a pipe (<code>|</code>). This means that <em>at least one</em> list of sub-rules must match. (The ones that match might be different each time the rule is encountered.) For example, the rule <code>2: 1 3 | 3 1</code> means that to match rule <code>2</code>, the text being checked must match rule <code>1</code> followed by rule <code>3</code> <em>or</em> it must match rule <code>3</code> followed by rule <code>1</code>.</p> \n",
       "<p>Fortunately, there are no loops in the rules, so the list of possible matches will be finite. Since rule <code>1</code> matches <code>a</code> and rule <code>3</code> matches <code>b</code>, rule <code>2</code> matches either <code>ab</code> or <code>ba</code>. Therefore, rule <code>0</code> matches <code>aab</code> or <code>aba</code>.</p> \n",
       "<p>Here's a more interesting example:</p> \n",
       "<pre><code>0: 4 1 5\n",
       "1: 2 3 | 3 2\n",
       "2: 4 4 | 5 5\n",
       "3: 4 5 | 5 4\n",
       "4: \"a\"\n",
       "5: \"b\"\n",
       "</code></pre> \n",
       "<p>Here, because rule <code>4</code> matches <code>a</code> and rule <code>5</code> matches <code>b</code>, rule <code>2</code> matches two letters that are the same (<code>aa</code> or <code>bb</code>), and rule <code>3</code> matches two letters that are different (<code>ab</code> or <code>ba</code>).</p> \n",
       "<p>Since rule <code>1</code> matches rules <code>2</code> and <code>3</code> once each in either order, it must match two pairs of letters, one pair with matching letters and one pair with different letters. This leaves eight possibilities: <code>aaab</code>, <code>aaba</code>, <code>bbab</code>, <code>bbba</code>, <code>abaa</code>, <code>abbb</code>, <code>baaa</code>, or <code>babb</code>.</p> \n",
       "<p>Rule <code>0</code>, therefore, matches <code>a</code> (rule <code>4</code>), then any of the eight options from rule <code>1</code>, then <code>b</code> (rule <code>5</code>): <code>aaaabb</code>, <code>aaabab</code>, <code>abbabb</code>, <code>abbbab</code>, <code>aabaab</code>, <code>aabbbb</code>, <code>abaaab</code>, or <code>ababbb</code>.</p> \n",
       "<p>The <em>received messages</em> (the bottom part of your puzzle input) need to be checked against the rules so you can determine which are valid and which are corrupted. Including the rules and the messages together, this might look like:</p> \n",
       "<pre><code>0: 4 1 5\n",
       "1: 2 3 | 3 2\n",
       "2: 4 4 | 5 5\n",
       "3: 4 5 | 5 4\n",
       "4: \"a\"\n",
       "5: \"b\"\n",
       "\n",
       "ababbb\n",
       "bababa\n",
       "abbbab\n",
       "aaabbb\n",
       "aaaabbb\n",
       "</code></pre> \n",
       "<p>Your goal is to determine <em>the number of messages that completely match rule <code>0</code></em>. In the above example, <code>ababbb</code> and <code>abbbab</code> match, but <code>bababa</code>, <code>aaabbb</code>, and <code>aaaabbb</code> do not, producing the answer <em><code>2</code></em>. The whole message must match all of rule <code>0</code>; there can't be extra unmatched characters in the message. (For example, <code>aaaabbb</code> might appear to match rule <code>0</code> above, but it has an extra unmatched <code>b</code> on the end.)</p> \n",
       "<p><em>How many messages completely match rule <code>0</code>?</em></p>"
      ]
     },
     "execution_count": 11,
     "metadata": {},
     "output_type": "execute_result"
    }
   ],
   "execution_count": 11
  },
  {
   "metadata": {
    "ExecuteTime": {
     "end_time": "2024-12-04T19:34:20.381295Z",
     "start_time": "2024-12-04T19:34:20.330665Z"
    }
   },
   "cell_type": "code",
   "source": [
    "val input = aoc.input()\n",
    "input"
   ],
   "outputs": [
    {
     "data": {
      "text/plain": [
       "[124: 72 26 | 58 91, 76: 72 90 | 58 73, 89: 58 135 | 72 25, 43: 58 30 | 72 98, 130: 58 58, 87: 135 72 | 100 58, 24: 72 5 | 58 78, 61: 84 72 | 71 58, 8: 42, 68: 49 72 | 91 58, 103: 126 58 | 124 72, 132: 58 17 | 72 37, 75: 72 89 | 58 50, 99: 72 72 | 58 58, 28: 58 19 | 72 65, 2: 9 72 | 67 58, 113: 58 100 | 72 130, 66: 129 58 | 70 72, 74: 72 116 | 58 56, 45: 72 82 | 58 38, 70: 137 58 | 12 72, 78: 72 58 | 58 58, 115: 78 58 | 27 72, 48: 58 121 | 72 95, 23: 120 58 | 93 72, 44: 58 25 | 72 130, 17: 58 27 | 72 91, 65: 102 72 | 46 58, 19: 72 84 | 58 35, 79: 29 72 | 127 58, 13: 58 88 | 72 136, 6: 15 72 | 130 58, 81: 58 72, 100: 117 72 | 58 58, 116: 78 72 | 49 58, 136: 20 72 | 50 58, 97: 53 72 | 85 58, 107: 58 27 | 72 5, 0: 8 11, 49: 58 72 | 72 117, 88: 105 58 | 21 72, 83: 69 72 | 5 58, 112: 58 32 | 72 2, 47: 62 72 | 118 58, 59: 58 134 | 72 101, 60: 132 72 | 103 58, 55: 58 44 | 72 92, 67: 72 15 | 58 100, 96: 81 72 | 135 58, 121: 25 58 | 26 72, 39: 58 81 | 72 25, 82: 81 58, 27: 72 72 | 117 58, 85: 58 119 | 72 68, 53: 72 39 | 58 80, 91: 72 58 | 72 72, 129: 58 133 | 72 3, 18: 58 69 | 72 25, 120: 110 58 | 36 72, 114: 58 87 | 72 16, 34: 72 40 | 58 45, 29: 58 123 | 72 59, 36: 15 117, 133: 58 107 | 72 113, 109: 58 58 | 58 72, 46: 100 117, 41: 109 58 | 91 72, 26: 72 72 | 58 72, 72: \"a\", 21: 58 78 | 72 130, 117: 58 | 72, 111: 58 5 | 72 81, 95: 58 27 | 72 109, 4: 97 72 | 28 58, 135: 58 117 | 72 58, 37: 58 27, 1: 58 99 | 72 25, 52: 130 58 | 109 72, 106: 5 72 | 99 58, 12: 111 58 | 68 72, 42: 94 58 | 79 72, 11: 42 31, 77: 125 72 | 86 58, 98: 58 91 | 72 109, 62: 58 122 | 72 52, 119: 109 72 | 135 58, 108: 15 72 | 25 58, 10: 78 58 | 15 72, 5: 72 58, 3: 72 33 | 58 37, 57: 58 51 | 72 7, 7: 72 43 | 58 74, 38: 58 91 | 72 15, 20: 26 58 | 130 72, 22: 58 99 | 72 15, 105: 15 72 | 99 58, 25: 72 72, 35: 72 99 | 58 91, 56: 78 72 | 99 58, 63: 114 72 | 55 58, 86: 23 72 | 13 58, 54: 47 58 | 112 72, 50: 72 5 | 58 99, 126: 58 81 | 72 26, 127: 63 72 | 60 58, 9: 72 27 | 58 15, 137: 10 58 | 96 72, 15: 117 117, 128: 66 58 | 57 72, 58: \"b\", 14: 18 72 | 116 58, 92: 58 25 | 72 100, 40: 83 58 | 131 72, 31: 77 58 | 128 72, 69: 58 72 | 72 58, 125: 34 58 | 76 72, 110: 117 99, 94: 72 4 | 58 54, 102: 72 25 | 58 109, 30: 58 91 | 72 5, 84: 99 117, 93: 50 72 | 6 58, 80: 72 100 | 58 91, 64: 58 5 | 72 130, 51: 58 61 | 72 48, 122: 5 58 | 25 72, 16: 58 130 | 72 78, 90: 22 58 | 106 72, 131: 58 91 | 72 130, 123: 14 72 | 75 58, 33: 58 15 | 72 26, 71: 27 72 | 69 58, 73: 104 58 | 24 72, 32: 72 126 | 58 41, 134: 72 1 | 58 35, 101: 72 84 | 58 115, 104: 130 58, 118: 64 58 | 108 72, , baabababbaababbbaabbbbab, baabababbbabaabaabbbbbbb, bbbabaaababbbbaaababbabbaabbabba, bbbbbbaaaababbaaaababaaabbaaababaaababba, bbabbaaaabbbabaaaabbbbbbabbbbbaa, aaaabaaabbbabbaaaabbbbbabaabbbaabbbaaaabbababbbb, bbbabababbbbbbbbbbbbabbbababbaba, aabbbbaaabbabbabaaaababaabbbabbbbabbaaabaaaaabbbbaaababbabbbbbbabbbbaaababbbbaab, bbababbaaabbbbbbabaaaabbbbbbabba, babaaaabbaaabbbabaaaaabb, bbbabaaabaaabbbabababbaaabbbbbabababababaaaaaaba, bbaabaabbbaaaabaabaaabaa, bbaabababbaaabbbaaaaabaabababbbbbaaabbaa, babbbbaaaaaaaabbabbabbba, bbbbbbabababbabbbbbbbbba, bbaaababbaaabbbbaababbbababaaaabaabbbaaaabbbabbabaaabbab, bbaaaabaaabbbaaabbaaabaa, baabbbaababbbbaaaaabbbbbbaaababbbbbbaaba, abbabbbabaaaaaaabbabaaabaaabababbabaaabaaabbbaaa, aababaaababbbaabababbabbabbbabbbbaaaababaabbabab, ababbbbaaaaaaaabababaabb, ababbbaaaaaabbabbaaabbabbabbaabbaabaaaab, bbaabaabaaabbaaabbbbbbbb, babaababbbbbbaaabbababba, bbaabbaaaaaabbbbabbbabbbabaabbabababaaba, bbbbbaaababbabaabbbaabbaaabbbbababbabaabaaaaaabaaabababaaaaaaaabaaaaababbbbbaabababbabbb, aabbbabababbaaabbbbaaaabbabbbbbbabaabaab, abbbabbaabbbababbbababbabaabaaabbababbab, baaaabaaaaabbababbaaaaaabababbbbabbbbababaaaaaaaabbbabab, aabaabababbabbbbbaabbaabbbaabbba, aaaabbbbabbabbabbaabbaabbaaaababababaaaabaabaabbabbbbbaabaaaaaba, bbbaaaabbaabbaababbabbbaabaababbbbaabbbbbbaabaaaabbbbaabaaaaabba, babbaabbaaaabbababaaabbabababbaaabbbababbbbbaabb, aabbbbaaabbbabbbabbababa, aaabaabaabbaaaabababaaabababbaabbabaaabbabaababaabbbaaab, aabbbabbbaababbbbbaaabaaaabaabaabaabaabbbaabbbaabbbaabba, bbaabbaababbbaabaaaaaabbbbbbbbba, ababbabbabbbaabbabaababaaaaaaaaabbbaabaabbbabbba, bbbabbabbabbbabbabbaaaaabbabbbabbbaaababababbabbbaaaaaaaaaababaaaabaabaaabbbababbbbaaaab, babaaaabababaaaabbabaaaababaababbabaabbabaabaaabaabbabba, aaabaabaabbbaabbbbbbabbababbabab, baababbbbabaabbaabbbaaaaabbabbbabbaabaabbababbaabbabbbbaabbbbbbb, ababbaababbabbbbbaababaaababbaba, baabbbabaaabbaababaaaabbbabbbaaaaaaaabaaaabbbbabababaabbabaaaabb, bbbaaababbbbbbaabbbbabbb, bbbaaaabaabaababaaabbaaaabbabbaaaaaaabbbaaabbabbbbabbaababbaaababaaabbaa, aabbbabaaaaaabbbabbabbba, aaaaaaabababbbabaabbbbba, aaaaaaaaababbbaababababbbbbabbbbabababaaabababaabbbbbaba, bbaaaaabababaababbbaabbababbaaababbabababbababbaabbababbabaababaaabababbbbbbaaba, bbaaaabbaaaaaaaababbaaaa, aaaaabaababaababaaababaa, babaabbbbaaabbbabbabbbbbbaaabbababaaabaababbaaaa, bbbbbbaabababbaaaaabbbbabaabbaba, abaaabbbaababbaaaababbbbbbaaaaababbabaaabbbaababaaababaa, abbabbbabaaabaabaabbbabbbabbbabaababaaaaaaaaaaabbbbabaaaabbababbbaaaaaaababbabbbabbbbaab, aababbaaaaabaababbbaaabababbababbbbaabbbbabaabbbabaabbaa, bbaabababbbbaababbaaabbabaaaaabbbabababa, aabbbabaabbbaabaaabbbabaabaababababbaaba, bbabbaabbbbbbbbabbbbbaaaaabbaaabbbbabbbbbaaabbabbbbbbbbbbbbbbaababbaaabbaaaababbbbbbaaab, abbbababbbaaaaaabbbabbabbbbabbabbbabaabb, aababbaaabbbaabbababbaaa, abbabbbbbbbbaababaaabbbb, aaabbbaaaaabbbabbabbaaaa, ababbbbbabbabaabaaaaabaaabbabbaabbbbbaaa, aaaabbbabbbbababbbababbaabbbaabbaaababba, aaabbbabbbaabaababbbaaabbaaaababaabbabaababbabaa, baaaabaabaaabaabababaaba, abbbabbbabbbabbaaaabbaab, bbabbabbbaaaababbbaaabbaabbabbbbaabbbaaaabbbaabbaabbababababaaba, abbabbaaaababababaabbbaa, ababbbaabaaabbbabbbabbab, bbaaabbbbaaaaaababbbaababbabbbaabbaaaabb, bbabbabbaabbababbaabbabaaaabaaaaabababaaaaabbaab, bbaababaaaabbbaaaabbbbabbbabaabb, bbababbaabaabbbababaababaabaaaab, bababaaaaaaabbbabbbbaabaabbbabaababbbabbababaaba, babbaabbbbbbababbbabbbbbbaaaaaabbabbabaaaaabbabb, babbbabbabaaabbabbbbaaaa, aaaabbabbbababbabbaaaabaaaabbbaa, abbbaabaaababaaaabbabbbbbbbaaaaabbabaabbababbaaabbbbbbbabaabaabb, abbbabaaababaaaaaabaababbbababbaaabbabaabbbbaaabbbbbbaab, babbaabbbbbaababbaaabbbbabbaaaaa, babbbbbbbbbabaaabaabbbba, bbbaaabaabaaaaabbaabbababbaabbabbabbababbabbbabaaabbabab, aabbbaaaababbaabbbabaaab, bbbbbbaaababbbaabaababba, bbabbbbbbbabaababbbabbba, babbabaababbbaaababbabababbbaabbbbaaabbbaaaabbababaababb, ababaaaaaaaaaaabbbaaaabbbaabbbbb, abbbaaaaaaaaabbaababaabb, baabaabaaabbbabaabbabbabaabbbbba, abaaabbbbbabbbbbbbbaabbbbbaaaabbbbbaabbbbbabbbababbaabaa, aaabbbaaababbbbabbbbabbabaabaabb, abbabbbbbababaaababbabababbabbbbbaaaaaabbbaabaaaaabaaabb, ababbabbaabbaaabaaababbb, bbbabaaaabaaaaabbaabbaabbbaababaaaaaababaaabaaabbbbbabaa, babbbababbbbbbabaaabaabababbbbbbbaaabbbb, aababaaaababbbaaababbbaababbbaaabbbaabbaaababbba, ababbbbaaabbbaaaaabaababaaaaaaaaabbababababbaaba, aabbaaababbabbaaaaabbbaa, bbbbaaabbaabbababaabbbabbbabaaabbbabbabababaabab, babaababbbbbabababbabbbbbbbbaaaa, abbbabaaabaaabbbaaabbbaaaaabbabaabbabbaaaabbaabaaabaaabaabbbbabbbabaaabbaababbaabbabaabb, aaabbbbaabbbababababbabbabaaabbabaabaabb, aaabbbaabbbbababbbaababb, baabababbbbabbbabbaabbababbbaaabaaababbb, bbbabaaaabaaaaabbbababab, baaaaabbbabbabbbbbaaaabaababbbbaabaabbabbbaaabbaababaaba, abbaaaabaaabbaaababbabababbbaababbbbbbaabbbbbaaa, baabbbabaababaaaabbababa, aabbbabbabaaaaaabbbbbaba, aabbbbaaaaaaababbaabbbaababbabbbaaababbbabaabbbbbabbaaaa, aabbaabbbabaaaabbbabbaab, aabbaaaaabababbbabaaaaaabbbababbaababababbaabbabaaabaaaababbbbab, bababbaaababaaaabbbbbbbb, aaaaababbbaaaabbbbaabbab, baabbaaaaabbbaaabaaababa, bbbabbbabbaabaaabbbbaabbbbabbbaabbbaaaababbababbbaabababbaabaaab, bbababababbababbbaaabbaaabbabababbbbbbaabaababaa, aababbaabaaaabbbabababaa, aaabbaaabbbaaaabbbbbaaaa, bbabbabbabbaaaababbababa, bbbabaaaaaabbaaaaabbabbbaaabbabaabbabaaa, aaaaaaaabbaababaaabbbbaabaabababbbbbbaab, babbaabaababaabaabababaabbbbbbba, aababaaaababbbbbbabbabababababaaabbbaaab, baabbbaabbbbbbbbabbaabbb, baababbbabbabbabaaaaaababaaabaaa, ababbbababbbbbabbaabbbaa, bbaababaaabbbbaaababaaababbababa, bbabbaaaabbabbbbaaabaaab, abbbabbabbabaabaaaaaaabbabbbbbbbbbbbbaaa, abbaaabbbbaaabbbbaababbbaaaabaab, bbaabababaaabbbaabbaabbb, ababbabbaaabaabaaaaaaaabababaaababaaabbbaabbabaabbbbbaba, aababababaaaababbabaaaababaaabbbbaaaaaba, babaaabaabbbbbbbabbbbbbbbaababaabbaaabaa, bababbbabaabbbabaaabbbaaaaabaababaabbbaabbbbbbba, ababbbabbbaaaabaabaabaaa, ababbbbaaabbaaabaababbbbaaaaaaaaabbababb, bbaabaabaaaabbabaaaaaaabbabbaaaaabbbbbbb, aabaaabbababbbabaaaabaabbbaababb, babbbbabaaaabababaababbabaaaabbabbabaaabaaabbbbbbbaabbbb, babbaababbbbbbbabbabaabbbbabbaaaababaaaa, baabaabababbbbabbaaabaaaabbbaabaaabaabbabbbbabbbabaaaabababaaaabbbbbbabb, bbbabaabaabbbabbbaabbaabaabaabba, babbbababbabbabbabbbaabaaaaabbbbbabaabbbabaaaabbbaaabaaa, aaabbbaababbbaaaaaabbbbaaaaaabbbaaaabbaaaababbbabbbabbba, babbaabbababbbbaaababbaabbaaaaaa, abaababaabbbabaaaaabbaba, abbabbabaabaaaaaaaabbaba, bbbbbbaaababbbbaabbaaabbaababbbaaaababbb, abbaaabbbbbbababaabaaaaaaaaaababbbbabbaa, abbbabaaaabbaabbaaabababbbbbaaaa, bbbababbaababbbbbbaaabbbbaabbababaaaaabb, abbaababaabbbabbabababab, ababbaababaaabbbbababaaaaabababaaaabaabb, aaaaababbabbabaababbabba, aabbaababbaabaaaaaabbabababaaaaa, bbabbabbaabaabbbbababaaabbbababbababaabb, babaaababbababbabbbbbbaabbbaaaaabbaaaabbbaaaaabb, aaabaabaaaaaabbbaaaabababaaabbbbbbbbabbbbaababababaabbbaabaaabaabbabbbba, baabababbabaaaabababaaabbaabbbba, abaaaaaababbbaababbbbbba, baabbaaabaabbbabbbabbbaa, ababbbbbabaababaaabbabba, abbaaabbbabbaaabbbbbbaaa, ababaaaaaabbaabbbbbaaaaaabaabbbabbbabaabbababbabbbbbaaababbbbaab, aabaaaaaaaaabaaabababbbaababaabaaaaabbababaabbababbaaaabbbabaaba, babaabababababbbaaabbbaaaabaaaabaaaabbbbaaababaaaababbaabaabaaabababaabb, ababbaabbbabbaababbababa, ababaaabbbaaabaabbbababbbaabaaabaabaaabb, aabbbabaaabaabababaaabbaaaabbabbaaababbb, baaabbabbbaaaababaaabaabbaaaabbbabbaaaabaaaabaabbaaabaaa, baaaababbaabbbbaaaaabbba, bbababbaaabaababbbbbbaaa, bbbaaabaabaaabbabaabaaaa, aabbbbaabaababbaaaabbaab, ababababbbbabbbaabbbbabbbaaababb, abbaaabbbaaaabbabbbbbaba, aababbaaaaaaababbabbaaba, abbaaabababbaabaaaaaaabaabbaabaabaabaaababaaaaba, abaabbbababbbbaabbbbaabb, abaaabbaaaaabbbbaaabaaaa, bababbbbbaabbbbbbababbababbbbaba, abbbabbbabbaaaabbabbbaaaaaabaabababbbbbaabaaabab, ababbbbbbabbbbabaaaaabba, baaabbabbaaaaaaaaabbbbaabbbbbaba, aabaaabbabbaabbabaabaaabbabbababaaabbaabaababaab, abbbbabbaaabbaaaabbbbbaaababbbbbbbbaaabbbabbaaab, ababbaabbbbabaaaabaabbaa, abababbababbabaabbaaaabaaaaaaabbaaaaaaabaababbababababbbaababbba, aaaaababbaababaaabbbaaababbbbaabbbbabbbaababbaaa, bbaaaaabbabbaabbbbbbbbba, ababbabbabaaabbbaabababa, bababbbaabbaaaaabbbbbaab, abaaaaaabababaaabaabaabaaaaabaaa, abaaabbaaababaaabbbbbabaababbbbbababaabababbbbbaabbbabbbabbaaabaababbaabbaabbabb, ababaaaabbaabaaaabbabbba, bbbabaaabbbabaaaabaaaaabbababbaaabababbb, bbabbabbbaaaaaabbbbbbbbb, bbbbbbaabbaabaabaaabbabb, bbbabaaabbabbabbaabbabba, aabaababaaaaaaaaaabbbabaabbbabbaabbbbaabbbbbaaaa, abbaaabbaaabbbbaaababbab, abaabababbbabaabbaaaabaaaaabbabbabaabaaa, babbbaaabaabbaabbbbaabbbabbbabbababbbababbbabbaa, aaaaaabbbbbaaababbaababb, abbaaabbbbbbabbabbaabbab, bbbbabbaabaababaaaaabababaaaabba, baaababbbbaaabaaaabababbbbaabbbbbbababab, babbbbababbbabbbaaabaaab, bbaaabbbbbbaabaaaabbbbbbababbbabaaababbabbbbbaba, bbabababbababbbabbbbbaabbaababbbbbaababaaabbabbababbaaaaababbbbabaaabaabbbbabbaaaabbbaba, bbaabbbababbbbbbbaaabababbaaabaabbababbaabaaabaababbbaabbbbbbbba, baaaabababbaaaaabbabbbbabbbababb, aababbbbbabbaabbbbaaaaabaabbabbabaaababa, babbbbaaababbbabbbbbabababaaaaaaabbaaaba, babbaabbabbabbabaaabbbaabababaaababbabbaaababaabbabbabbb, bbaabaabaabaabbbababaabb, aaaabbbababbababbabbabaaaaabbbbabbbababbbbbabbbbbaaaaabb, aabbbbaababbbbababbbbabbbaaabaaa, aaabbbbbabbbaaabbaababaa, babaaaabaabbbaaabbaabbaa, aaaaabbbaaabbbbabaaabbabbabbbababbabbbab, bbbbaababaabababbabbabbb, abbaababbbaaaababbbaaabaaabbabaa, ababbaabaaabbbabbaabaaab, baababbbabaaaaaaabbbabbabbabbabaaababbba, baaabbbaaabbbaaababbabaabbbbbaba, bababbbbababbbbababaababbaabbbaabaaabbbbababaababbbbabbbbabaaababababbaababbbbaa, abbaaaaabbbbbbababbbbaaa, bbaabbababbbbaaaabaabababaaaabbababababbbbababbb, abbbabbaabbaaabbaaabbaba, aaaabbbababbbbabaababaab, bbaabbaaabaabbbababaaaabbbaabbbabbbabbab, babbbbbbbbababbaabaababb, bbbbabbbaaabbbbbaaaabaabaababaababaabbbb, babbbabbaababbaabaaaaabb, abbbabbbaabbbabbbbaaaaba, babababbaabbabbaaabbbbab, baaaabaaaaabaabaabbaaaba, ababbaaabbbabbbbabababbabbbbabbb, babaabababaaabbabababbaaaabaabaa, bababbaaabbabbabaaababaa, baaaabaaaabbbbbbabbabbba, aabbaababaabbbabbabbbbbbbabbbabbaaaaabba, abbaabbbabbbbbaabbaabbbbbbbbaababababbabababbaab, ababbbbbabaaaaabbbbaaababbbaabbbaaabaaaabaaaaababaabbbaa, babbababababaaaaaababbab, babaaabbabaaaaaabbbbaaaa, bbbbaaaabbbabbbabaabaabbbbbabbab, bababbaaabbbaababababaaaabbabbbbbbbaababbabbabba, ababbbababaaaaababbabaaa, bbbbaababababaaaababaabb, baaaabbbaabababababbabba, aabbbabbaaabbbabbbaaaaabbbabbaabaaaaaaaabbaaaabaabbaabaa, aabaababaababbabbbbaababaabbbbabaaabbbbbaaabaaabbababbab, abbabaabbbabbbaaabbaabba, aababaaaaababaaabbaaaabbabbbbbaaabababaa, baabbaababbbbaabbabbbaaaabbabaaaaaaabbbabbbaaabaaaabaaabbbaabbaaabbaabbbaabbabaaaaaabaab, babbbabbbaababbbabbabaaa, aaababababbbaabbabbabbba, babbbbbbaaabbaaabbbbbaab, abbbaabbaaaaabbbbbabbbab, bbaabababaabbbabbabababa, bbabbbbabbbaaaabbaabaabaaabbbabbbbbababb, abbabbabbbbbaabaababbbbbbbababbaabbbbbbaaabaaabbbbaabbba, bababaabaababaaabbabbbbb, babbaabbbbaabaabbbaabbbabaabbaaabbbbaaabaabbabba, bbabbaabababbbbabbbabaaa, baabbaabaaaaabaabbaaabab, aaabababbabbbaaabaaaabbaaaabbbaabaaaabbbabbbbbabaaaabaababbbbaab, baabbbabaabababaaaaabaabaaaaabaaaaaaabbaaabbbaabaabbbbaabaaaabba, bbaabbaaaabbbaaaabaaabab, baaaaaaaaabbbababaaaaabbaabbbbbabbaaabab, aabbaabbabbbaaaabbbabbaaabaabbbbababbaba, abaabbbaaaabbbaabbaaaabbbaabbbbb, bbbbabbbaaabaabbaaaaabba, babbabaabaaababaabaabbabbbaaaaaa, abbbbaababbbaabbabaaabbbbaaaaababaaabababbbbbaab, bbaaaabbbbbbaaabbababaabaaabbbaababbbbabaaabbababbbababaaaaaabbbbbababba, baaaabbbbbbbabbabbaababb, bbaaabbaabbbaaaabaabbaba, abaaaaabbbbbaabaaababbbbbbbaaaab, aaaabbbaababaaabbbbbabbabbaaaabbaababababbbbbababaabbababbbbaaaabbbaaabb, abaaabbbbbbaaaaabaabbbaa, aabaababbbabbbbaaaabbbaabbaaaaabaaabaabb, bababaabbababaabbbaaabaa, baaaaaabbabaabbbbabaaabbbbabaabb, bbabbbbbabbabbababbaaabbbabbababbaabbbbbbbbabbaa, aabbbbbaabbbabbabababbbaaabbbbbaaaabaaab, bbbabaabaabbbabababbabaababbbbbababbaaaa, aaaabababaaababbbbbbbababbaabbbbbbbbaabbaababbbbaaababaaabbbaababaabbabbbbbbbbbb, aaaabaaabbabbabaabbbaaab, aaaabaabbbbaaaabbaaabaabbababababbbaabaaababbabaaabbabaa, bbbabaaabaaaabbaabbbbaab, abbabbbbbbabaaaababbbaabbaaaaababaabbabbbbbaababbabaaaaa, abbabbaaaaaabababaaabbabaaaaabaabbbaabbaababaaba, aababbbabaababaaabbbaabbbbbbabaaaabbaababababbaaaaaaababbbbbbabbaababbbaaababbaabbbbabab, abbaaaabbbaaaaabbaabbaaaaabbabbbbbbabaabaabbabbbbbbabbbaabbababb, baababbaababbabbbaabbaba, bbababbaabbaababaaababbabbaaaaabbbabbabaabbbbababbabbbabababaaaa, aabbbbababababbaabaabbaababbbbba, abaaaabbaaabbaaabbabbbaa, abbaaabbabaabbbabababaabbbbaabba, ababaaababaaabbbabaaabaa, aabbaabaaabbbbaabaabaaab, aabaabbbabbaaaaaabbbbabaaabaabbaaaababbbaabbabbabbbbaaaaabbaabaa, baaabaabbaaaaaaabaaaaaabbababaaaabbbababbbbbaaaa, aababbbabbabaaabbababaaaabaabaaaabbbaaba, abbabbbabbbabaaabbabababbbabaaaabbaaaaaaaaabababbbabbbab, bbbabaaaaaaabbabababbaabaaaaabaaabaabbbabbbabbbabaababbbbbababbbaaaaabbb, baabababaaaaabbbbbbabbbb, abbaaabbaaabaabaabaabaab, abbbbbabbabaaababbabaabbbbabaaaaabbbbaabbaaabababaabaaaabababbbabbabbbaaabbaaabbababbabb, ababaaababaabbbabbbbaabb, bbaababaabababbaabbbabbbbbabbabaabaabbaa, babaabbbababbbbabaaaababbbaaaabababababaabababab, bbababbabbbbababaabbabaa, bbaaaabababaababaaaabbbaabaaaaabbaabbbabbbbaabba, bbabaababbbabaabaabaababababbbaabbbbbaabbbabbaba, bbababbabbabaaabaaaabbbb, baababbbbbaabbaaabaabaaa, abaaaaaaabbaaaababaabaabbbbbaabbbaaababb, abaaaabbbabbabababbbbaaa, abbbababaabbaabbbaaabbaabbbabbbbaabbbbbabbbbaabb, aabbaabbbbabbaaaaabbbbba, bbbbabbaabaaaabbbaaababbabbababa, babbbabaaabaaaaaabbbbbabaabbabab, baaaaaababbbababbbbababa, baabbaabaabaaaaabaaabaabaaaabaabaabbbbba, aabaabbbbabbababaaabaabaaabaabaa, aabbaabbbabbabbbbababaababaaaaabbbaababaabbabbaabbabaaabbbabbaab, bbabbaabbabaaabaabbbaabbbbbaaaaaaaaabbaaaabaabaa, babbaaabbabaabbbaababbba, aaaaabbbbbaaabbaabbabbaabababbbbaaababba, babbbaaaabaaabbabaaabbabbbabbaabbbababbb, babbbabbbabbbbaabababbaaabababbbbbaababbbbaabaaabbbbaabb, bbabbbbbaabbbabbbabaabbbabababaa, abbbabbabaaabbbbaaaabaaa, babbbbaabaaaaaababaabbbb, aaaababababbbaabbbbaabbbbabbaaabbbaaaaaa, abbbaabbbababaaabaaaaabb, bbaabbaabbaaabbabbaaabbaabaabaabbaaabbbb, bababbababbabbbbabababbaaaabaabaaabaaababbaabaabbbabbabbaabbabbbaaaaaaababaaabba, abbababaaaabaaabbaabbaba, baaababbbabaaabaaaaabaaaabaaaaababbbbbbbbabbabbbabbbabaabaababbabaaabbaaaaabaaabaabaaabababbbaab, bbaaabbbabbabbaaabababab, aabababaabbabbbbbbababbaaaaabbbbabbbbbba, aaaaaabbaaabababaababaaabaaababb, abbabaabbbbaaaaaabbaaaba, abbbababaaabaababaaaaaaababaaaababababbbaabbbbba, abbabbaababbbbababbaaaabbbbaabbbbabbbabbbabbabba, bbbaabaaaaabbbaababbaabbbbbabaabbaaababaaaaababb, bbaaaaababaabaaabaaabbaaabbaababbbbaaaabbbbbbaba, bbaaaabbabbbbbbbaaaaaabbabbbbbabaababbaabaaabaabbbabaaabbaaabbbabbbabaabaaaabbaaaabaaabb, abbabbaabbaaabbbbabbbbaabbaabaababaabaaaabbbaaababaabaabaaabaaab, abbbabaaaabbaaabbbbabbaa, baabaaaabaaaabbaabaaaaab, aabbbabaabaaabbbbabbabba, bbababbabbbaabbbbbbaaaabbaaabbabbbaabaaa, aaaabbbbbaaaababaabababababaabba, aabbbabababbbaaaaaabbbbaaaabaaaa, abbaaaabbababbbaabbabbabababaababbbaaabb, baaaaaabbbabaaaaabbaabbb, aaaaaaabbbaaaabaabaaabaa, aabbbbbbbbabbaabababaaba, bbbbbbaaaaabbaaaabbaabbb, bbaaabbbbabaaabbbaaaabaaaabbaabababbbabbabaaaabaabababbb, abbbbbabaabbbabbbbbababb, abaababaabbbaabbabbbaababbababbbbbbbbbba, aabbbabaaaabbaaabbaabbaaabbbbaaa, aabbabbbaaaabbabababbaba, aaabbbbababbbaaababaabbbbaabbaba, aabbbababbabbaaaabbaaaaaaaaaaaaabbbaabbaaabababb, ababbbabbabaaababbaabbbb, aabbbabbbaabbbabababbabbabbbabbabaaabbbabaabbbbb, abbbabbaaabbbababbabbbbbbbbbabaabaaaaabbabbbbababbbababb, baabaababaaaababbababbbb, bbaaaaaabaabbbaaaaaabbbaaabbbbabbbaaabbbbbbbbbbbabbbbaaababaabaaaaaaaaabbbabaababaabaabb, aababbbbabaaababbbabbaaaaaaaaabbaabbbbbaaababababababaababbaabababababbbabbbababbbaabaab, bbabaabaaabbbbbbbababbaa, aaababbabbbbababaababaabbbababaabbbabaababaaaabbaabbbaaa, bbababbaaabbbaaaabbaabbb, aabbbabaababbbaabbbabaaaaaaabbbabbbbbbaaabbababaabbaaabaabaabbaa, ababbbaaaabaabbbbbbbbbbb, abbbabaababbabaababaabba, aaabbbaababbabaabbbbaababbabbbab, bbaaaababaaabbbabbaababbababbababaaabaaa, bbaaabbaabbaababaaaaabbbbaabbbaaabbbbaaa, aaaaabababbbaaaabbbbbbabbabbbaababbabbaabbbbaabb, aaabbaaaabbbabaabbbbbabbbbaababbbbbbbbbabbaaaabaabbbabbbaaaabbabbbabbaaaaaaaabbbbbabaaba, babbbaabbaabaabaaaaabbbabbbbaabaaaabaabbbbabaabb, abbabbabbabaaabaabbaabaa, abaaaabbaaaaaaabbaaabbbabbaaabaa, bbbbbbaababbababababbaba, bbaaabbaabbbabbbabbaabba, babaabbbaabaababaabaabba, ababbbabbabbbaaabababbab, bbaabbaaaaaaaaabbaabaaaa, abbbbbabbbbabaaaaaabbbbabbbbbbbabaabbbaaaababbab, bbbbaababaaabbabababaaba, babbabaababbaaabaababbaa, babbbaaaababaaababbbabaaabbbabaaabbbbbba, bbbaabaababbababbbabaabb, aababbbbabbabbbbababbbabbbabbababbababab, baaaabbbbaaabbabbaabaabaaababbaaaaaaaabbbaabbbaaaabaaabb, aaaaaaaaababbbbbbbbaaaaabababaaabbbbbaaa, aaaaabababbabaabbabbabaaaaaabaab, ababbbabbabbbaabbaaababb, abaaabbababaaaababbabbaaabaaabaa, babbabbbbabaaabbaabbbbaaabbbabaababbbbbbabaabbabaaabbbba, aaaaabbbabbabbbbbbaaaaaa, aaababbabbabaaabbabbabbb, babaabbbabbbabbbaabbbbbbbaabbaabaababbab, aaabbaabbaabbbbaaaaabbabbbaaaabbbaabababaaabbbabbababaaabbaababb, babbbbabababbabbbababbab, bababbbbbaabaaabaabaaababbaabaabaaaaaaabbbababaaaaabaaba, aaaaaaaabaaaabbbbbaaabaa, bbabbbbbaabaaaaaaaaaabaaabaabababbbbbbaaaaababbaaaababbb, aaabababaababbababbbbbaabbaabbba, baababababaaabbbbaaabbbb, ababbbabbaababbbbaaaaaababbbaabbaaaaabaabaabaaaa, babbaabbaabbaabbbaaaabbbababbbbbbabbbabbaaaababbbaaabaaaaababbaaaaababbbbbbbabbaaaababaa, aaaaaabbbbabaababbbaaababbababaa, babbbbaababbaabbabbbbaba, bbaabbaaaaaabbbbabababbbbbabbbbbbaaabaaaabbabbbabbabbaaaaaaababa, ababbbaababbbaaaaabaabaa, baaaabbbbbbbabbaabbabaaa]"
      ]
     },
     "execution_count": 12,
     "metadata": {},
     "output_type": "execute_result"
    }
   ],
   "execution_count": 12
  },
  {
   "metadata": {
    "ExecuteTime": {
     "end_time": "2024-12-04T19:34:21.078262Z",
     "start_time": "2024-12-04T19:34:21.014854Z"
    }
   },
   "cell_type": "code",
   "source": [
    "val example = \"\"\"0: 4 1 5\n",
    "1: 2 3 | 3 2\n",
    "2: 4 4 | 5 5\n",
    "3: 4 5 | 5 4\n",
    "4: \"a\"\n",
    "5: \"b\"\n",
    "\n",
    "ababbb\n",
    "bababa\n",
    "abbbab\n",
    "aaabbb\n",
    "aaaabbb\"\"\".split(\"\\n\")"
   ],
   "outputs": [],
   "execution_count": 13
  },
  {
   "metadata": {},
   "cell_type": "code",
   "outputs": [],
   "execution_count": null,
   "source": ""
  },
  {
   "metadata": {
    "ExecuteTime": {
     "end_time": "2024-12-04T19:34:45.857771Z",
     "start_time": "2024-12-04T19:34:45.650854Z"
    }
   },
   "cell_type": "code",
   "source": [
    "sealed interface Rule {\n",
    "    fun matches(s: String): Int;\n",
    "\n",
    "}\n",
    "\n",
    "class StringRule(val rule: String) : Rule {\n",
    "    override fun matches(s: String): Int {\n",
    "        return if (s.startsWith(rule)) rule.length else 0\n",
    "    }\n",
    "}\n",
    "\n",
    "class CompositeRule(val rules: List<Rule>) : Rule {\n",
    "    override fun matches(s: String): Int {\n",
    "        var curIdx = 0\n",
    "        rules.forEach { rule ->\n",
    "            val result = rule.matches(s.substring(curIdx))\n",
    "            if (result == 0) {\n",
    "                return 0\n",
    "            }\n",
    "            curIdx += result\n",
    "        }\n",
    "        return curIdx\n",
    "    }\n",
    "}\n",
    "\n",
    "class RuleReference(val rulesMap: Map<Int, Rule>, val ruleNum: Int) : Rule {\n",
    "\n",
    "    override fun matches(s: String): Int {\n",
    "        return rulesMap[ruleNum]!!.matches(s)\n",
    "    }\n",
    "}\n",
    "\n",
    "class OrRule(val rules: List<Rule>) : Rule {\n",
    "\n",
    "    override fun matches(s: String): Int {\n",
    "        return rules.map { rule -> rule.matches(s) }\n",
    "            .filter { it != 0 }\n",
    "            .first().or(0)\n",
    "    }\n",
    "}\n",
    "    "
   ],
   "outputs": [],
   "execution_count": 16
  },
  {
   "metadata": {
    "ExecuteTime": {
     "end_time": "2024-12-04T19:35:44.156746Z",
     "start_time": "2024-12-04T19:35:43.893686Z"
    }
   },
   "cell_type": "code",
   "source": [
    "fun parseCompositeRule(rulesStr: String, map: MutableMap<Int, Rule>): CompositeRule {\n",
    "    val rules = rulesStr.trim().split(\" \")\n",
    "    val toUse = rules.map { ruleStr ->\n",
    "        RuleReference(map, ruleStr.toInt())\n",
    "    }\n",
    "    return CompositeRule(toUse)\n",
    "}\n",
    "\n",
    "fun parse(lines: List<String>): Pair<Map<Int, Rule>, List<String>> {\n",
    "    var curLine = 0\n",
    "    val rules = mutableMapOf<Int, Rule>()\n",
    "    while (lines[curLine].isNotBlank()) {\n",
    "        val line = lines[curLine]\n",
    "        val num = line.split(\":\")[0].toInt()\n",
    "        val rulesStr = line.split(\":\")[1].trim()\n",
    "        if (rulesStr.contains(\"|\")) {\n",
    "            val rulesInOr = rulesStr.split(\"|\")\n",
    "                .map { it.trim() }\n",
    "                .map { parseCompositeRule(it, rules) }\n",
    "                .toList()\n",
    "            rules[num] = OrRule(rulesInOr)\n",
    "        } else if (\"\\\"\" in rulesStr) {\n",
    "        \n",
    "            rules[num] = StringRule(rulesStr.trim('\"')).also { println(it.rule) }\n",
    "        } else {\n",
    "            rules[num] = parseCompositeRule(rulesStr, rules)\n",
    "        }\n",
    "        curLine++\n",
    "    }\n",
    "\n",
    "    val messages = lines.subList(curLine + 1, lines.size)\n",
    "    return Pair(rules, messages)\n",
    "}\n",
    "\n",
    "val (rules, messages) = parse(example)\n",
    "\n",
    "rules.size"
   ],
   "outputs": [
    {
     "name": "stdout",
     "output_type": "stream",
     "text": [
      "a\n",
      "b\n"
     ]
    },
    {
     "data": {
      "text/plain": [
       "6"
      ]
     },
     "execution_count": 20,
     "metadata": {},
     "output_type": "execute_result"
    }
   ],
   "execution_count": 20
  },
  {
   "metadata": {
    "ExecuteTime": {
     "end_time": "2024-12-04T20:37:56.142606Z",
     "start_time": "2024-12-04T20:37:54.689693Z"
    }
   },
   "cell_type": "code",
   "source": "aoc.viewPartTwo()",
   "outputs": [
    {
     "data": {
      "text/html": [
       "<h2 id=\"part2\">--- Part Two ---</h2>\n",
       "<p>As you look over the list of messages, you realize your matching rules aren't quite right. To fix them, completely replace rules <code>8: 42</code> and <code>11: 42 31</code> with the following:</p> \n",
       "<pre><code>8: 42 | 42 8\n",
       "11: 42 31 | 42 11 31\n",
       "</code></pre> \n",
       "<p>This small change has a big impact: now, the rules <em>do</em> contain loops, and the list of messages they could hypothetically match is infinite. You'll need to determine how these changes affect which messages are valid.</p> \n",
       "<p>Fortunately, many of the rules are unaffected by this change; it might help to start by looking at which rules always match the same set of values and how <em>those</em> rules (especially rules <code>42</code> and <code>31</code>) are used by the new versions of rules <code>8</code> and <code>11</code>.</p> \n",
       "<p>(Remember, <em>you only need to handle the rules you have</em>; building a solution that could handle any hypothetical combination of rules would be <a href=\"https://en.wikipedia.org/wiki/Formal_grammar\" target=\"_blank\">significantly more difficult</a>.)</p> \n",
       "<p>For example:</p> \n",
       "<pre><code>42: 9 14 | 10 1\n",
       "9: 14 27 | 1 26\n",
       "10: 23 14 | 28 1\n",
       "1: \"a\"\n",
       "11: 42 31\n",
       "5: 1 14 | 15 1\n",
       "19: 14 1 | 14 14\n",
       "12: 24 14 | 19 1\n",
       "16: 15 1 | 14 14\n",
       "31: 14 17 | 1 13\n",
       "6: 14 14 | 1 14\n",
       "2: 1 24 | 14 4\n",
       "0: 8 11\n",
       "13: 14 3 | 1 12\n",
       "15: 1 | 14\n",
       "17: 14 2 | 1 7\n",
       "23: 25 1 | 22 14\n",
       "28: 16 1\n",
       "4: 1 1\n",
       "20: 14 14 | 1 15\n",
       "3: 5 14 | 16 1\n",
       "27: 1 6 | 14 18\n",
       "14: \"b\"\n",
       "21: 14 1 | 1 14\n",
       "25: 1 1 | 1 14\n",
       "22: 14 14\n",
       "8: 42\n",
       "26: 14 22 | 1 20\n",
       "18: 15 15\n",
       "7: 14 5 | 1 21\n",
       "24: 14 1\n",
       "\n",
       "abbbbbabbbaaaababbaabbbbabababbbabbbbbbabaaaa\n",
       "bbabbbbaabaabba\n",
       "babbbbaabbbbbabbbbbbaabaaabaaa\n",
       "aaabbbbbbaaaabaababaabababbabaaabbababababaaa\n",
       "bbbbbbbaaaabbbbaaabbabaaa\n",
       "bbbababbbbaaaaaaaabbababaaababaabab\n",
       "ababaaaaaabaaab\n",
       "ababaaaaabbbaba\n",
       "baabbaaaabbaaaababbaababb\n",
       "abbbbabbbbaaaababbbbbbaaaababb\n",
       "aaaaabbaabaaaaababaa\n",
       "aaaabbaaaabbaaa\n",
       "aaaabbaabbaaaaaaabbbabbbaaabbaabaaa\n",
       "babaaabbbaaabaababbaabababaaab\n",
       "aabbbbbaabbbaaaaaabbbbbababaaaaabbaaabba\n",
       "</code></pre> \n",
       "<p>Without updating rules <code>8</code> and <code>11</code>, these rules only match three messages: <code>bbabbbbaabaabba</code>, <code>ababaaaaaabaaab</code>, and <code>ababaaaaabbbaba</code>.</p> \n",
       "<p>However, after updating rules <code>8</code> and <code>11</code>, a total of <em><code>12</code></em> messages match:</p> \n",
       "<ul> \n",
       " <li><code>bbabbbbaabaabba</code></li> \n",
       " <li><code>babbbbaabbbbbabbbbbbaabaaabaaa</code></li> \n",
       " <li><code>aaabbbbbbaaaabaababaabababbabaaabbababababaaa</code></li> \n",
       " <li><code>bbbbbbbaaaabbbbaaabbabaaa</code></li> \n",
       " <li><code>bbbababbbbaaaaaaaabbababaaababaabab</code></li> \n",
       " <li><code>ababaaaaaabaaab</code></li> \n",
       " <li><code>ababaaaaabbbaba</code></li> \n",
       " <li><code>baabbaaaabbaaaababbaababb</code></li> \n",
       " <li><code>abbbbabbbbaaaababbbbbbaaaababb</code></li> \n",
       " <li><code>aaaaabbaabaaaaababaa</code></li> \n",
       " <li><code>aaaabbaabbaaaaaaabbbabbbaaabbaabaaa</code></li> \n",
       " <li><code>aabbbbbaabbbaaaaaabbbbbababaaaaabbaaabba</code></li> \n",
       "</ul> \n",
       "<p><em>After updating rules <code>8</code> and <code>11</code>, how many messages completely match rule <code>0</code>?</em></p>"
      ]
     },
     "execution_count": 21,
     "metadata": {},
     "output_type": "execute_result"
    }
   ],
   "execution_count": 21
  },
  {
   "metadata": {},
   "cell_type": "code",
   "outputs": [],
   "execution_count": null,
   "source": ""
  }
 ],
 "metadata": {
  "kernelspec": {
   "display_name": "Kotlin",
   "language": "kotlin",
   "name": "kotlin"
  },
  "language_info": {
   "name": "kotlin",
   "version": "1.9.23",
   "mimetype": "text/x-kotlin",
   "file_extension": ".kt",
   "pygments_lexer": "kotlin",
   "codemirror_mode": "text/x-kotlin",
   "nbconvert_exporter": ""
  },
  "ktnbPluginMetadata": {
   "projectDependencies": [
    "aoc.main"
   ]
  }
 },
 "nbformat": 4,
 "nbformat_minor": 0
}
