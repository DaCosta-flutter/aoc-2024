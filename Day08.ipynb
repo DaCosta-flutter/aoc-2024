{
 "cells": [
  {
   "cell_type": "code",
   "metadata": {
    "collapsed": true,
    "ExecuteTime": {
     "end_time": "2024-12-08T10:13:39.955Z",
     "start_time": "2024-12-08T10:13:38.893106Z"
    }
   },
   "source": [
    "import com.toldoven.aoc.notebook.AocClient\n",
    "\n",
    "val aoc = AocClient.fromEnv().interactiveDay(2024, 8)\n",
    "\n",
    "aoc.viewPartOne()"
   ],
   "outputs": [
    {
     "data": {
      "text/html": [
       "<h2>--- Day 8: Resonant Collinearity ---</h2>\n",
       "<p>You find yourselves on the <a href=\"/2016/day/25\">roof</a> of a top-secret Easter Bunny installation.</p> \n",
       "<p>While The Historians do their thing, you take a look at the familiar <em>huge antenna</em>. Much to your surprise, it seems to have been reconfigured to emit a signal that makes people 0.1% more likely to buy Easter Bunny brand <span title=\"They could have imitated delicious chocolate, but the mediocre chocolate is WAY easier to imitate.\">Imitation Mediocre</span> Chocolate as a Christmas gift! Unthinkable!</p> \n",
       "<p>Scanning across the city, you find that there are actually many such antennas. Each antenna is tuned to a specific <em>frequency</em> indicated by a single lowercase letter, uppercase letter, or digit. You create a map (your puzzle input) of these antennas. For example:</p> \n",
       "<pre><code>............\n",
       "........0...\n",
       ".....0......\n",
       ".......0....\n",
       "....0.......\n",
       "......A.....\n",
       "............\n",
       "............\n",
       "........A...\n",
       ".........A..\n",
       "............\n",
       "............\n",
       "</code></pre> \n",
       "<p>The signal only applies its nefarious effect at specific <em>antinodes</em> based on the resonant frequencies of the antennas. In particular, an antinode occurs at any point that is perfectly in line with two antennas of the same frequency - but only when one of the antennas is twice as far away as the other. This means that for any pair of antennas with the same frequency, there are two antinodes, one on either side of them.</p> \n",
       "<p>So, for these two antennas with frequency <code>a</code>, they create the two antinodes marked with <code>#</code>:</p> \n",
       "<pre><code>..........\n",
       "...#......\n",
       "..........\n",
       "....a.....\n",
       "..........\n",
       ".....a....\n",
       "..........\n",
       "......#...\n",
       "..........\n",
       "..........\n",
       "</code></pre> \n",
       "<p>Adding a third antenna with the same frequency creates several more antinodes. It would ideally add four antinodes, but two are off the right side of the map, so instead it adds only two:</p> \n",
       "<pre><code>..........\n",
       "...#......\n",
       "#.........\n",
       "....a.....\n",
       "........a.\n",
       ".....a....\n",
       "..#.......\n",
       "......#...\n",
       "..........\n",
       "..........\n",
       "</code></pre> \n",
       "<p>Antennas with different frequencies don't create antinodes; <code>A</code> and <code>a</code> count as different frequencies. However, antinodes <em>can</em> occur at locations that contain antennas. In this diagram, the lone antenna with frequency capital <code>A</code> creates no antinodes but has a lowercase-<code>a</code>-frequency antinode at its location:</p> \n",
       "<pre><code>..........\n",
       "...#......\n",
       "#.........\n",
       "....a.....\n",
       "........a.\n",
       ".....a....\n",
       "..#.......\n",
       "......A...\n",
       "..........\n",
       "..........\n",
       "</code></pre> \n",
       "<p>The first example has antennas with two different frequencies, so the antinodes they create look like this, plus an antinode overlapping the topmost <code>A</code>-frequency antenna:</p> \n",
       "<pre><code>......#....#\n",
       "...#....0...\n",
       "....#0....#.\n",
       "..#....0....\n",
       "....0....#..\n",
       ".#....A.....\n",
       "...#........\n",
       "#......#....\n",
       "........A...\n",
       ".........A..\n",
       "..........#.\n",
       "..........#.\n",
       "</code></pre> \n",
       "<p>Because the topmost <code>A</code>-frequency antenna overlaps with a <code>0</code>-frequency antinode, there are <code><em>14</em></code> total unique locations that contain an antinode within the bounds of the map.</p> \n",
       "<p>Calculate the impact of the signal. <em>How many unique locations within the bounds of the map contain an antinode?</em></p>"
      ]
     },
     "execution_count": 1,
     "metadata": {},
     "output_type": "execute_result"
    }
   ],
   "execution_count": 1
  },
  {
   "metadata": {
    "ExecuteTime": {
     "end_time": "2024-12-08T11:04:13.916366Z",
     "start_time": "2024-12-08T11:04:13.371935Z"
    }
   },
   "cell_type": "code",
   "source": "aoc.viewPartTwo()",
   "outputs": [
    {
     "data": {
      "text/html": [
       "<h2 id=\"part2\">--- Part Two ---</h2>\n",
       "<p>Watching over your shoulder as you work, one of The Historians asks if you took the effects of resonant harmonics into your calculations.</p> \n",
       "<p>Whoops!</p> \n",
       "<p>After updating your model, it turns out that an antinode occurs at <em>any grid position</em> exactly in line with at least two antennas of the same frequency, regardless of distance. This means that some of the new antinodes will occur at the position of each antenna (unless that antenna is the only one of its frequency).</p> \n",
       "<p>So, these three <code>T</code>-frequency antennas now create many antinodes:</p> \n",
       "<pre><code>T....#....\n",
       "...T......\n",
       ".T....#...\n",
       ".........#\n",
       "..#.......\n",
       "..........\n",
       "...#......\n",
       "..........\n",
       "....#.....\n",
       "..........\n",
       "</code></pre> \n",
       "<p>In fact, the three <code>T</code>-frequency antennas are all exactly in line with two antennas, so they are all also antinodes! This brings the total number of antinodes in the above example to <code><em>9</em></code>.</p> \n",
       "<p>The original example now has <code><em>34</em></code> antinodes, including the antinodes that appear on every antenna:</p> \n",
       "<pre><code>##....#....#\n",
       ".#.#....0...\n",
       "..#.#0....#.\n",
       "..##...0....\n",
       "....0....#..\n",
       ".#...#A....#\n",
       "...#..#.....\n",
       "#....#.#....\n",
       "..#.....A...\n",
       "....#....A..\n",
       ".#........#.\n",
       "...#......##\n",
       "</code></pre> \n",
       "<p>Calculate the impact of the signal using this updated model. <em>How many unique locations within the bounds of the map contain an antinode?</em></p>"
      ]
     },
     "execution_count": 7,
     "metadata": {},
     "output_type": "execute_result"
    }
   ],
   "execution_count": 7
  },
  {
   "metadata": {
    "ExecuteTime": {
     "end_time": "2024-12-08T10:15:45.055847Z",
     "start_time": "2024-12-08T10:15:44.214544Z"
    }
   },
   "cell_type": "code",
   "source": [
    "val input = aoc.input()\n",
    "println(\"Input size: ${input.size}\")\n",
    "input.forEach { println(it) }"
   ],
   "outputs": [
    {
     "name": "stdout",
     "output_type": "stream",
     "text": [
      "Input size: 50\n",
      ".......................O......T.....d......M......\n",
      "..............................F...................\n",
      "..........V..................R....................\n",
      "............B..t..........T..........d............\n",
      ".....................B.........T................M.\n",
      "..V.................................2.......M.....\n",
      ".......V........................F.O..........2....\n",
      "...................................T..............\n",
      "..................................................\n",
      "......r..........B......................c.........\n",
      ".....o3.B.............................2...........\n",
      "..................1...m..o....d..c.....M..........\n",
      "......Qr....o............F....0............1......\n",
      "....Q.......................0....................2\n",
      "......t..........0................................\n",
      ".............R.................................mL.\n",
      "....r..............3.....................c..1.....\n",
      ".........Q.........................1..............\n",
      "................x...R.............................\n",
      "...x........8.R...................................\n",
      "..................8...............................\n",
      "........x.u.................Z.....................\n",
      "...........................X...............d......\n",
      "....................30.....................f......\n",
      "......q...............v...................c.......\n",
      "..........t8.........D.3..........................\n",
      ".......t.......4.............8....................\n",
      "...b..................C...........D...............\n",
      ".........................v..ND4..........K........\n",
      ".......F.........u...........C..............fZ....\n",
      "........X..9...........N.........Z..........k.....\n",
      ".............X.6...q..........................k...\n",
      "..............................C.Z...........m....k\n",
      "...................4.v..............N.............\n",
      "....................u.......D..............m......\n",
      "............................vl.....UK.............\n",
      "............................l..6.......f..........\n",
      "..................q.4............N................\n",
      "..........b....x..............fu..................\n",
      ".9..................................U.......l.....\n",
      "....w......b.........L......6.....z.5.............\n",
      "..........X..........W6........5............z.....\n",
      "...........q..........L............z........n...W.\n",
      "............................5.........n...W..z....\n",
      "........9........w................7....n..........\n",
      "............w......................7...K.....n....\n",
      ".........................U....K......W............\n",
      ".........w.....L.................k....7...........\n",
      "...................7.............l.............5..\n",
      "..............9...................................\n"
     ]
    }
   ],
   "execution_count": 3
  },
  {
   "metadata": {
    "ExecuteTime": {
     "end_time": "2024-12-08T11:11:56.926873Z",
     "start_time": "2024-12-08T11:11:56.371037Z"
    }
   },
   "cell_type": "code",
   "source": [
    "aoc.submitPartTwo(\"991\")\n",
    "//aoc.submitPartTwo(\"\")"
   ],
   "outputs": [
    {
     "data": {
      "text/html": [
       "        <div>\n",
       "            <p>Your answer: 991.</p>\n",
       "            <p>That's the right answer! You are <span class=\"day-success\">one gold star</span> closer to finding the Chief Historian.</p>\n",
       "<p>You have completed Day 8! You can <span class=\"share\">[Share<span class=\"share-content\">on <a href=\"https://bsky.app/intent/compose?text=I+just+completed+%22Resonant+Collinearity%22+%2D+Day+8+%2D+Advent+of+Code+2024+%23AdventOfCode+https%3A%2F%2Fadventofcode%2Ecom%2F2024%2Fday%2F8\" target=\"_blank\">Bluesky</a> <a href=\"https://twitter.com/intent/tweet?text=I+just+completed+%22Resonant+Collinearity%22+%2D+Day+8+%2D+Advent+of+Code+2024&amp;url=https%3A%2F%2Fadventofcode%2Ecom%2F2024%2Fday%2F8&amp;related=ericwastl&amp;hashtags=AdventOfCode\" target=\"_blank\">Twitter</a> <a href=\"javascript:void(0);\" onclick=\"var ms; try{ms=localStorage.getItem('mastodon.server')}finally{} if(typeof ms!=='string')ms=''; ms=prompt('Mastodon Server?',ms); if(typeof ms==='string' &amp;&amp; ms.length){this.href='https://'+ms+'/share?text=I+just+completed+%22Resonant+Collinearity%22+%2D+Day+8+%2D+Advent+of+Code+2024+%23AdventOfCode+https%3A%2F%2Fadventofcode%2Ecom%2F2024%2Fday%2F8';try{localStorage.setItem('mastodon.server',ms);}finally{}}else{return false;}\" target=\"_blank\">Mastodon</a></span>]</span> this victory or <a href=\"/2024\">[Return to Your Advent Calendar]</a>.</p>\n",
       "        </div>"
      ]
     },
     "execution_count": 9,
     "metadata": {},
     "output_type": "execute_result"
    }
   ],
   "execution_count": 9
  },
  {
   "metadata": {},
   "cell_type": "code",
   "outputs": [],
   "execution_count": null,
   "source": ""
  }
 ],
 "metadata": {
  "kernelspec": {
   "display_name": "Kotlin",
   "language": "kotlin",
   "name": "kotlin"
  },
  "language_info": {
   "name": "kotlin",
   "version": "1.9.23",
   "mimetype": "text/x-kotlin",
   "file_extension": ".kt",
   "pygments_lexer": "kotlin",
   "codemirror_mode": "text/x-kotlin",
   "nbconvert_exporter": ""
  },
  "ktnbPluginMetadata": {
   "projectDependencies": [
    "aoc.main"
   ]
  }
 },
 "nbformat": 4,
 "nbformat_minor": 0
}
