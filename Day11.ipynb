{
 "cells": [
  {
   "cell_type": "code",
   "metadata": {
    "collapsed": true,
    "ExecuteTime": {
     "end_time": "2024-12-01T16:09:00.487297Z",
     "start_time": "2024-12-01T16:09:00.413591Z"
    }
   },
   "source": [
    "import com.toldoven.aoc.notebook.AocClient\n",
    "\n",
    "val aoc = AocClient.fromEnv().interactiveDay(2018, 11)\n",
    "\n",
    "aoc.viewPartOne()"
   ],
   "outputs": [
    {
     "data": {
      "text/html": [
       "<h2>--- Day 11: Chronal Charge ---</h2>\n",
       "<p>You watch the Elves and their sleigh fade into the distance as they head toward the North Pole.</p> \n",
       "<p>Actually, you're the one fading. The <span title=\"wheeeeeeeeeeeeeeeeee\">falling sensation</span> returns.</p> \n",
       "<p>The low fuel warning light is illuminated on your wrist-mounted device. Tapping it once causes it to project a hologram of the situation: a <em>300x300</em> grid of fuel cells and their current power levels, some negative. You're not sure what negative power means in the context of time travel, but it can't be good.</p> \n",
       "<p>Each fuel cell has a coordinate ranging <em>from 1 to 300</em> in both the X (horizontal) and Y (vertical) direction. In <code>X,Y</code> notation, the top-left cell is <code>1,1</code>, and the top-right cell is <code>300,1</code>.</p> \n",
       "<p>The interface lets you select <em>any 3x3 square</em> of fuel cells. To increase your chances of getting to your destination, you decide to choose the 3x3 square with the <em>largest total power</em>.</p> \n",
       "<p>The power level in a given fuel cell can be found through the following process:</p> \n",
       "<ul> \n",
       " <li>Find the fuel cell's <em>rack ID</em>, which is its <em>X coordinate plus 10</em>.</li> \n",
       " <li>Begin with a power level of the <em>rack ID</em> times the <em>Y coordinate</em>.</li> \n",
       " <li>Increase the power level by the value of the <em>grid serial number</em> (your puzzle input).</li> \n",
       " <li>Set the power level to itself multiplied by the <em>rack ID</em>.</li> \n",
       " <li>Keep only the <em>hundreds digit</em> of the power level (so <code>12<em>3</em>45</code> becomes <code>3</code>; numbers with no hundreds digit become <code>0</code>).</li> \n",
       " <li><em>Subtract 5</em> from the power level.</li> \n",
       "</ul> \n",
       "<p>For example, to find the power level of the fuel cell at <code>3,5</code> in a grid with serial number <code>8</code>:</p> \n",
       "<ul> \n",
       " <li>The rack ID is <code>3 + 10 = <em>13</em></code>.</li> \n",
       " <li>The power level starts at <code>13 * 5 = <em>65</em></code>.</li> \n",
       " <li>Adding the serial number produces <code>65 + 8 = <em>73</em></code>.</li> \n",
       " <li>Multiplying by the rack ID produces <code>73 * 13 = <em>949</em></code>.</li> \n",
       " <li>The hundreds digit of <code><em>9</em>49</code> is <code><em>9</em></code>.</li> \n",
       " <li>Subtracting 5 produces <code>9 - 5 = <em>4</em></code>.</li> \n",
       "</ul> \n",
       "<p>So, the power level of this fuel cell is <code><em>4</em></code>.</p> \n",
       "<p>Here are some more example power levels:</p> \n",
       "<ul> \n",
       " <li>Fuel cell at &nbsp;<code>122,79</code>, grid serial number <code>57</code>: power level <code>-5</code>.</li> \n",
       " <li>Fuel cell at <code>217,196</code>, grid serial number <code>39</code>: power level &nbsp;<code>0</code>.</li> \n",
       " <li>Fuel cell at <code>101,153</code>, grid serial number <code>71</code>: power level &nbsp;<code>4</code>.</li> \n",
       "</ul> \n",
       "<p>Your goal is to find the 3x3 square which has the largest total power. The square must be entirely within the 300x300 grid. Identify this square using the <code>X,Y</code> coordinate of its <em>top-left fuel cell</em>. For example:</p> \n",
       "<p>For grid serial number <code>18</code>, the largest total 3x3 square has a top-left corner of <code><em>33,45</em></code> (with a total power of <code>29</code>); these fuel cells appear in the middle of this 5x5 region:</p> \n",
       "<pre><code>-2  -4   4   4   4\n",
       "-4  <em> 4   4   4  </em>-5\n",
       " 4  <em> 3   3   4  </em>-4\n",
       " 1  <em> 1   2   4  </em>-3\n",
       "-1   0   2  -5  -2\n",
       "</code></pre> \n",
       "<p>For grid serial number <code>42</code>, the largest 3x3 square's top-left is <code><em>21,61</em></code> (with a total power of <code>30</code>); they are in the middle of this region:</p> \n",
       "<pre><code>-3   4   2   2   2\n",
       "-4  <em> 4   3   3  </em> 4\n",
       "-5  <em> 3   3   4  </em>-4\n",
       " 4  <em> 3   3   4  </em>-3\n",
       " 3   3   3  -5  -1\n",
       "</code></pre> \n",
       "<p><em>What is the <code>X,Y</code> coordinate of the top-left fuel cell of the 3x3 square with the largest total power?</em></p>"
      ]
     },
     "execution_count": 4,
     "metadata": {},
     "output_type": "execute_result"
    }
   ],
   "execution_count": 4
  },
  {
   "metadata": {
    "ExecuteTime": {
     "end_time": "2024-12-01T16:10:28.009549Z",
     "start_time": "2024-12-01T16:10:27.921194Z"
    }
   },
   "cell_type": "code",
   "source": [
    "val input = aoc.input()\n",
    "input"
   ],
   "outputs": [
    {
     "data": {
      "text/plain": [
       "[9435]"
      ]
     },
     "execution_count": 5,
     "metadata": {},
     "output_type": "execute_result"
    }
   ],
   "execution_count": 5
  },
  {
   "metadata": {},
   "cell_type": "code",
   "outputs": [],
   "execution_count": null,
   "source": ""
  },
  {
   "metadata": {
    "ExecuteTime": {
     "end_time": "2024-12-01T22:34:04.713254Z",
     "start_time": "2024-12-01T21:02:06.068852Z"
    }
   },
   "cell_type": "code",
   "source": [
    "/*\n",
    " For example, to find the power level of the fuel cell at 3,5 in a grid with serial number 8:\n",
    "\n",
    "The rack ID is 3 + 10 = 13.\n",
    "The power level starts at 13 * 5 = 65.\n",
    "Adding the serial number produces 65 + 8 = 73.\n",
    "Multiplying by the rack ID produces 73 * 13 = 949.\n",
    "The hundreds digit of 949 is 9.\n",
    "Subtracting 5 produces 9 - 5 = 4.\n",
    "\n",
    "The power level in a given fuel cell can be found through the following process:\n",
    "\n",
    "Find the fuel cell's rack ID, which is its X coordinate plus 10.\n",
    "Begin with a power level of the rack ID times the Y coordinate.\n",
    "Increase the power level by the value of the grid serial number (your puzzle input).\n",
    "Set the power level to itself multiplied by the rack ID.\n",
    "Keep only the hundreds digit of the power level (so 12345 becomes 3; numbers with no hundreds digit become 0).\n",
    "Subtract 5 from the power level.\n",
    "**/\n",
    "\n",
    "fun Point.powerLevel(serialNumber: Int): Long {\n",
    "    val rackid = this.x.toLong() + 10\n",
    "    var powerLevel = rackid * this.y\n",
    "    powerLevel += serialNumber\n",
    "    powerLevel *= rackid\n",
    "    val hundredsDigit = powerLevel / 100 % 10\n",
    "    return hundredsDigit - 5\n",
    "}\n",
    "\n",
    "//val serialNumber = input[0].toInt()\n",
    "val serialNumber = 18\n",
    "\n",
    "val points = (1..300)\n",
    "    .flatMap { x -> (1..300).map { y -> Point(x, y) } }\n",
    "    .toSet()\n",
    "\n",
    "val cache = mutableMapOf<Pair<Point, Int>, Long>()\n",
    "\n",
    "fun Point.powerLevelNeighbourhood(points: Set<Point>, size: Int): Long {\n",
    "    if (size == 1) {\n",
    "        this.powerLevel(serialNumber).run {\n",
    "            cache[Pair(this@powerLevelNeighbourhood, size)] = this\n",
    "            return this\n",
    "        }\n",
    "    }\n",
    "    cache[Pair(this, size)]?.run {\n",
    "        return this\n",
    "    }\n",
    "    val previousPowerLevel = this.powerLevelNeighbourhood(points, size - 1)\n",
    "\n",
    "    val rowPoints = (0 until size).map { Point(this.x + size - 1, this.y + it) }\n",
    "    val colPoints = (0 until size).map { Point(this.x + it, this.y + size - 1) }\n",
    "    val allPoints = (rowPoints + colPoints).toSet()\n",
    "    //println(allPoints)\n",
    "\n",
    "    if (allPoints.any { it !in points }) {\n",
    "        cache[Pair(this, size)] = Long.MIN_VALUE\n",
    "        return Long.MIN_VALUE\n",
    "    }\n",
    "\n",
    "    val toReturn = allPoints\n",
    "        .sumOf { it.powerLevel(serialNumber) } + previousPowerLevel\n",
    "    cache[Pair(this, size)] = toReturn\n",
    "    return toReturn\n",
    "}\n",
    "\n",
    "val max = points.flatMap { point -> (1..300).map { s -> Pair(point, s) } }\n",
    "    .maxBy { (point, s) -> point.powerLevelNeighbourhood(points, s) }\n",
    "\n",
    "max\n"
   ],
   "outputs": [
    {
     "ename": "org.jetbrains.kotlinx.jupyter.exceptions.ReplInterruptedException",
     "evalue": "The execution was interrupted",
     "output_type": "error",
     "traceback": []
    }
   ],
   "execution_count": 40
  },
  {
   "metadata": {
    "ExecuteTime": {
     "end_time": "2024-12-01T19:52:29.125088Z",
     "start_time": "2024-12-01T19:52:28.463722Z"
    }
   },
   "cell_type": "code",
   "source": "aoc.submitPartOne(\"20,41\")",
   "outputs": [
    {
     "data": {
      "text/html": [
       "<div>\n",
       "    <p>Your answer: 20,41.</p>\n",
       "    <p>That's the right answer! You are <span class=\"day-success\">one gold star</span> closer to fixing the time stream. <a href=\"/2018/day/11#part2\">[Continue to Part Two]</a></p>\n",
       "</div>"
      ]
     },
     "execution_count": 9,
     "metadata": {},
     "output_type": "execute_result"
    }
   ],
   "execution_count": 9
  },
  {
   "metadata": {
    "ExecuteTime": {
     "end_time": "2024-12-01T19:52:47.512851Z",
     "start_time": "2024-12-01T19:52:46.896183Z"
    }
   },
   "cell_type": "code",
   "source": "aoc.viewPartTwo()",
   "outputs": [
    {
     "data": {
      "text/html": [
       "<h2 id=\"part2\">--- Part Two ---</h2>\n",
       "<p>You discover a dial on the side of the device; it seems to let you select a square of <em>any size</em>, not just 3x3. Sizes from 1x1 to 300x300 are supported.</p> \n",
       "<p>Realizing this, you now must find the <em>square of any size with the largest total power</em>. Identify this square by including its size as a third parameter after the top-left coordinate: a 9x9 square with a top-left corner of <code>3,5</code> is identified as <code>3,5,9</code>.</p> \n",
       "<p>For example:</p> \n",
       "<ul> \n",
       " <li>For grid serial number <code>18</code>, the largest total square (with a total power of <code>113</code>) is 16x16 and has a top-left corner of <code>90,269</code>, so its identifier is <code><em>90,269,16</em></code>.</li> \n",
       " <li>For grid serial number <code>42</code>, the largest total square (with a total power of <code>119</code>) is 12x12 and has a top-left corner of <code>232,251</code>, so its identifier is <code><em>232,251,12</em></code>.</li> \n",
       "</ul> \n",
       "<p><em>What is the <code>X,Y,size</code> identifier of the square with the largest total power?</em></p>"
      ]
     },
     "execution_count": 10,
     "metadata": {},
     "output_type": "execute_result"
    }
   ],
   "execution_count": 10
  },
  {
   "metadata": {},
   "cell_type": "code",
   "outputs": [],
   "execution_count": null,
   "source": "\n"
  }
 ],
 "metadata": {
  "kernelspec": {
   "display_name": "Kotlin",
   "language": "kotlin",
   "name": "kotlin"
  },
  "language_info": {
   "name": "kotlin",
   "version": "1.9.23",
   "mimetype": "text/x-kotlin",
   "file_extension": ".kt",
   "pygments_lexer": "kotlin",
   "codemirror_mode": "text/x-kotlin",
   "nbconvert_exporter": ""
  },
  "ktnbPluginMetadata": {
   "projectDependencies": [
    "aoc.main"
   ]
  }
 },
 "nbformat": 4,
 "nbformat_minor": 0
}
