{
 "cells": [
  {
   "cell_type": "code",
   "metadata": {
    "collapsed": true,
    "ExecuteTime": {
     "end_time": "2024-12-01T10:57:13.769179Z",
     "start_time": "2024-12-01T10:57:13.664626Z"
    }
   },
   "source": [
    "import com.toldoven.aoc.notebook.AocClient\n",
    "\n",
    "val aoc = AocClient.fromEnv().interactiveDay(2018, 1)\n",
    "\n",
    "aoc.viewPartOne()"
   ],
   "outputs": [
    {
     "data": {
      "text/html": [
       "<h2>--- Day 1: Chronal Calibration ---</h2>\n",
       "<p>\"We've detected some temporal anomalies,\" one of Santa's Elves at the <span title=\"It's about as big on the inside as you expected.\">Temporal Anomaly Research and Detection Instrument Station</span> tells you. She sounded pretty worried when she called you down here. \"At 500-year intervals into the past, someone has been changing Santa's history!\"</p> \n",
       "<p>\"The good news is that the changes won't propagate to our time stream for another 25 days, and we have a device\" - she attaches something to your wrist - \"that will let you fix the changes with no such propagation delay. It's configured to send you 500 years further into the past every few days; that was the best we could do on such short notice.\"</p> \n",
       "<p>\"The bad news is that we are detecting roughly <em>fifty</em> anomalies throughout time; the device will indicate fixed anomalies with <em class=\"star\">stars</em>. The other bad news is that we only have one device and you're the best person for the job! Good lu--\" She taps a button on the device and you suddenly feel like you're falling. To save Christmas, you need to get all <em class=\"star\">fifty stars</em> by December 25th.</p> \n",
       "<p>Collect stars by solving puzzles. Two puzzles will be made available on each day in the Advent calendar; the second puzzle is unlocked when you complete the first. Each puzzle grants <em class=\"star\">one star</em>. Good luck!</p> \n",
       "<p>After feeling like you've been falling for a few minutes, you look at the device's tiny screen. \"Error: Device must be calibrated before first use. Frequency drift detected. Cannot maintain destination lock.\" Below the message, the device shows a sequence of changes in frequency (your puzzle input). A value like <code>+6</code> means the current frequency increases by <code>6</code>; a value like <code>-3</code> means the current frequency decreases by <code>3</code>.</p> \n",
       "<p>For example, if the device displays frequency changes of <code>+1, -2, +3, +1</code>, then starting from a frequency of zero, the following changes would occur:</p> \n",
       "<ul> \n",
       " <li>Current frequency <code>&nbsp;0</code>, change of <code>+1</code>; resulting frequency <code>&nbsp;1</code>.</li> \n",
       " <li>Current frequency <code>&nbsp;1</code>, change of <code>-2</code>; resulting frequency <code>-1</code>.</li> \n",
       " <li>Current frequency <code>-1</code>, change of <code>+3</code>; resulting frequency <code>&nbsp;2</code>.</li> \n",
       " <li>Current frequency <code>&nbsp;2</code>, change of <code>+1</code>; resulting frequency <code>&nbsp;3</code>.</li> \n",
       "</ul> \n",
       "<p>In this example, the resulting frequency is <code>3</code>.</p> \n",
       "<p>Here are other example situations:</p> \n",
       "<ul> \n",
       " <li><code>+1, +1, +1</code> results in <code>&nbsp;3</code></li> \n",
       " <li><code>+1, +1, -2</code> results in <code>&nbsp;0</code></li> \n",
       " <li><code>-1, -2, -3</code> results in <code>-6</code></li> \n",
       "</ul> \n",
       "<p>Starting with a frequency of zero, <em>what is the resulting frequency</em> after all of the changes in frequency have been applied?</p>"
      ]
     },
     "execution_count": 1,
     "metadata": {},
     "output_type": "execute_result"
    }
   ],
   "execution_count": 1
  },
  {
   "metadata": {
    "ExecuteTime": {
     "end_time": "2024-12-01T10:57:39.793009Z",
     "start_time": "2024-12-01T10:57:39.722080Z"
    }
   },
   "cell_type": "code",
   "source": [
    "val input = aoc.input()\n",
    "input"
   ],
   "outputs": [
    {
     "data": {
      "text/plain": [
       "[+11, +14, +10, -8, -13, -2, +8, +14, -11, -4, +2, -17, -15, -12, -15, -16, -15, -13, -15, -4, -9, -4, -9, -12, +19, +1, +10, +15, -6, +15, +15, +19, -8, +16, +2, +12, +10, +20, -15, +16, -3, -2, +1, +8, +5, -6, +8, -22, -14, +13, -12, -6, +11, -1, +21, +11, +4, -6, -19, -27, -14, +8, -5, +1, -6, -16, -10, +13, -14, -4, -9, -5, +17, -4, -17, +2, +8, +14, +13, +5, +2, +3, -13, -18, -8, +12, +19, +14, -3, -15, +17, +14, -4, +1, +10, -13, +7, -21, +18, +4, +11, +7, +8, +14, +17, -6, +17, +7, +10, -14, +9, +15, +13, +6, +11, -8, +16, +18, -8, +6, +16, +1, +14, -1, -16, -6, +15, -4, +5, +9, +17, -18, +3, +14, -10, +21, -15, +14, +6, +18, -11, +4, -9, +17, +12, +15, +1, -17, +19, +3, +19, -14, -9, +7, +10, +3, +13, +2, -14, +16, +11, -3, +10, -13, +14, -2, -14, +18, -8, -19, +18, -6, +21, +4, +5, -4, +18, +16, -6, -18, -12, +17, -19, +13, +13, +9, +2, -3, +16, +2, -7, -6, +29, +14, +13, -1, +34, +19, -13, +23, +10, -2, -6, +10, -3, +18, -9, +2, +10, +17, -18, -14, +2, +6, -4, +12, -6, +11, +5, -7, +10, +4, +17, +15, -8, +7, -3, -2, +13, +22, +10, -16, +4, +15, -1, -3, +13, -8, -9, -3, +4, +5, +17, +10, +18, +11, +9, +1, +12, +11, +7, -8, -17, -19, +1, +9, -5, +19, -3, +17, +8, -23, -1, -4, -2, -17, -13, -14, +16, -18, -14, +12, +5, +4, -14, +22, -1, -15, +18, +10, -2, -13, -18, +2, -8, +3, -8, -17, -12, -8, +16, +6, +19, +39, +15, -19, -12, -4, +5, +17, +32, +4, -2, +15, -12, -41, +8, +18, -17, +24, +15, +13, +13, -14, +15, +14, -16, +4, -38, -59, -22, -35, +12, -8, -22, -14, +3, +6, -8, +5, -17, -18, -14, +10, +21, +8, -11, -4, +2, +9, +5, +14, +17, +7, +13, -23, -5, -13, +9, -18, -16, +17, +6, -3, -7, +26, -8, -48, -16, -2, -10, -21, +14, +9, -5, +8, -14, -3, -4, +3, -7, +10, -1, +12, +6, -13, +19, +9, +5, -29, +19, -6, -8, -21, -23, -25, -9, +5, +19, -2, -8, +100, +61, +1, +18, +108, -60, +291, -13, +118, -1098, -56117, +14, -15, -4, -2, -12, -18, +3, +5, +15, -10, +18, +12, -19, -7, -21, +16, -7, +15, +5, +3, -14, +7, +19, +10, +9, +12, +16, -10, -7, -2, +7, -18, -3, +11, +14, -17, -7, +6, -15, -11, +18, +14, -18, -7, +16, -6, -5, +22, +12, -8, +11, +5, +18, -5, -19, +8, +14, -19, +7, -3, -14, -4, -6, -6, +18, +7, +10, +23, -18, -8, +9, +8, +8, +4, +17, -16, +10, -9, -9, +17, -5, -10, +18, +9, +17, +12, -3, +13, +3, +16, -14, -1, -15, -4, +17, -4, +19, -4, +17, +20, +22, -43, +18, -9, +14, -12, -16, -16, -2, -11, +19, -13, +22, +2, +16, +17, -9, -23, +7, -6, +10, +20, +14, +3, -4, -48, -1, +14, -28, -16, -12, +4, +14, -20, -1, +4, -18, -17, +10, +14, +6, -2, +19, +4, +3, -27, -13, +8, -3, +2, +18, -30, +6, -22, +4, +11, +18, +17, -20, -17, +65, +20, +9, -6, -93, -22, +2, -10, -71, +17, -15, -10, -4, -6, -8, -14, -3, +13, -2, +12, -9, -12, +8, +47, -8, -23, -21, -23, -12, -8, -5, -17, -30, -25, -11, +6, -17, -13, +11, -14, -9, +17, +17, +10, -17, -8, -15, +2, +18, -6, -29, +1, -17, +19, +19, +22, +5, -1, +19, +13, +15, -5, -19, +6, -13, +15, +3, -23, -46, -16, -19, -16, -11, +4, -21, +16, +13, -20, -16, -1, -14, -6, -16, +9, -18, +19, +2, +15, +15, -16, -18, -15, +8, +6, -11, -11, -14, -18, +26, +15, -34, +17, -88, +1, -10, -8, +16, -10, -19, +10, -13, -10, -16, -16, +10, +16, +20, +15, -20, +12, -15, -10, -1, +7, +5, -16, -14, -18, +14, -1, -18, +16, -12, -5, +14, +12, +2, -10, -15, +10, -11, -5, -19, -4, +16, -18, +12, -3, -16, -2, +16, +16, -12, -14, -14, +5, +6, -20, +15, +14, -16, -17, -1, +10, -17, +6, -19, +12, -35, -10, +8, +111, +14, -11, -17, -11, -12, +1, +23, +15, +7, -8, +4, +24, -9, +19, +19, +13, -1, +3, +17, +5, -16, -17, -6, -5, +14, -24, +14, -12, -18, +1, +12, -16, +11, -5, +24, +15, +9, -17, +9, -8, +4, -16, -4, -14, -14, -12, -24, +9, -19, +159, -27, +11, +12, +11, +3, +16, -25, -23, +10, -24, +4, -70, -4, -32, -13, +103, +162, +41, -401, -56221, +8, +19, -3, -11, -6, -21, -7, +16, +4, -10, -8, -17, -10, +16, +8, +10, +10, +5, +12, +27, -2, -9, +12, -6, +13, +23, -54, -10, -4, +13, +21, -65, -14, +2, +13, -19, -11, +10, +10, -2, -4, +8, -15, -20, +2, -6, -11, -6, +7, +17, +13, +2, -7, -10, -18, -17, -16, +4, +4, +11, +8, +15, -8, +10, +20, -10, -17, +2, -19, +20, -17, +5, -2, -16, +14, -19, -15, +2, +17, -2, -11, -12, +7, -20, -19, +13, -17, +18, -17, +9, -2, +7, -6, +11, -9, +3, -19, -12, +15, +4, +10, +4, -11, +17, +19, +9, -19, +1, -19, +11, +21, -17, -9, +11, -3, +2, +8, +14, +18, -2, -1, -12, +10, -18, -8, -5, +14, +23, -7, -28, +18, +5, -19, +10, +16, +19, +13, +17, +14, +11, +7, +1, +5, -11, -3, +15, +4, -34, +8, +5, +7, -35, -9, -17, -5, +13, +11, +11, -12, -27, +1, +21, -2, +14, +3, +17, -6, +45, -16, +24, +91, +20, +23, -2, +9, +7, +12, +6, +9, +7, -12, -13, -15, -2, +14, -11, -4, -10, +17, -1, -14, +21, +11, +1, +13, -5, +14, +16, -10, +4, +17, +5, -1, -3, -7, -13, -7, -19, +6, +24, +5, -6, +9, -11, -14, +19, -15, +19, +12, +19, -1, -14, +2, -1, -16, +10, -5, -32, +13, -3, -15, +113294]"
      ]
     },
     "execution_count": 5,
     "metadata": {},
     "output_type": "execute_result"
    }
   ],
   "execution_count": 5
  },
  {
   "metadata": {
    "ExecuteTime": {
     "end_time": "2024-12-01T10:58:10.472055Z",
     "start_time": "2024-12-01T10:58:09.142698Z"
    }
   },
   "cell_type": "code",
   "source": [
    "val result = input.map { it.toInt() }.sum()\n",
    "aoc.submitPartOne(result)\n"
   ],
   "outputs": [
    {
     "data": {
      "text/html": [
       "<div>\n",
       "    <p>Your answer: 402.</p>\n",
       "    <p>That's the right answer! You are <span class=\"day-success\">one gold star</span> closer to fixing the time stream. <a href=\"/2018/day/1#part2\">[Continue to Part Two]</a></p>\n",
       "</div>"
      ]
     },
     "execution_count": 6,
     "metadata": {},
     "output_type": "execute_result"
    }
   ],
   "execution_count": 6
  },
  {
   "metadata": {
    "ExecuteTime": {
     "end_time": "2024-12-01T10:58:17.230127Z",
     "start_time": "2024-12-01T10:58:16.613772Z"
    }
   },
   "cell_type": "code",
   "source": "aoc.viewPartTwo()",
   "outputs": [
    {
     "data": {
      "text/html": [
       "<h2 id=\"part2\">--- Part Two ---</h2>\n",
       "<p>You notice that the device repeats the same frequency change list over and over. To calibrate the device, you need to find the first frequency it reaches <em>twice</em>.</p> \n",
       "<p>For example, using the same list of changes above, the device would loop as follows:</p> \n",
       "<ul> \n",
       " <li>Current frequency <code>&nbsp;0</code>, change of <code>+1</code>; resulting frequency <code>&nbsp;1</code>.</li> \n",
       " <li>Current frequency <code>&nbsp;1</code>, change of <code>-2</code>; resulting frequency <code>-1</code>.</li> \n",
       " <li>Current frequency <code>-1</code>, change of <code>+3</code>; resulting frequency <code>&nbsp;2</code>.</li> \n",
       " <li>Current frequency <code>&nbsp;2</code>, change of <code>+1</code>; resulting frequency <code>&nbsp;3</code>.</li> \n",
       " <li>(At this point, the device continues from the start of the list.)</li> \n",
       " <li>Current frequency <code>&nbsp;3</code>, change of <code>+1</code>; resulting frequency <code>&nbsp;4</code>.</li> \n",
       " <li>Current frequency <code>&nbsp;4</code>, change of <code>-2</code>; resulting frequency <code>&nbsp;2</code>, which has already been seen.</li> \n",
       "</ul> \n",
       "<p>In this example, the first frequency reached twice is <code>2</code>. Note that your device might need to repeat its list of frequency changes many times before a duplicate frequency is found, and that duplicates might be found while in the middle of processing the list.</p> \n",
       "<p>Here are other examples:</p> \n",
       "<ul> \n",
       " <li><code>+1, -1</code> first reaches <code>0</code> twice.</li> \n",
       " <li><code>+3, +3, +4, -2, -4</code> first reaches <code>10</code> twice.</li> \n",
       " <li><code>-6, +3, +8, +5, -6</code> first reaches <code>5</code> twice.</li> \n",
       " <li><code>+7, +7, -2, -7, -4</code> first reaches <code>14</code> twice.</li> \n",
       "</ul> \n",
       "<p><em>What is the first frequency your device reaches twice?</em></p>"
      ]
     },
     "execution_count": 7,
     "metadata": {},
     "output_type": "execute_result"
    }
   ],
   "execution_count": 7
  },
  {
   "metadata": {
    "ExecuteTime": {
     "end_time": "2024-12-01T11:01:39.938642Z",
     "start_time": "2024-12-01T11:01:39.638716Z"
    }
   },
   "cell_type": "code",
   "source": [
    "val reachedFrequencies = HashSet<Int>()\n",
    "var currentFreq = 0;\n",
    "var idx = 0;\n",
    "\n",
    "while (currentFreq !in reachedFrequencies) {\n",
    "    reachedFrequencies.add(currentFreq)\n",
    "    currentFreq += input[idx++ % input.size].toInt()\n",
    "}\n",
    "\n",
    "currentFreq"
   ],
   "outputs": [
    {
     "data": {
      "text/plain": [
       "481"
      ]
     },
     "execution_count": 8,
     "metadata": {},
     "output_type": "execute_result"
    }
   ],
   "execution_count": 8
  },
  {
   "metadata": {
    "ExecuteTime": {
     "end_time": "2024-12-01T11:01:48.996925Z",
     "start_time": "2024-12-01T11:01:48.301970Z"
    }
   },
   "cell_type": "code",
   "source": "aoc.submitPartTwo(481)",
   "outputs": [
    {
     "data": {
      "text/html": [
       "        <div>\n",
       "            <p>Your answer: 481.</p>\n",
       "            <p>That's the right answer! You are <span class=\"day-success\">one gold star</span> closer to fixing the time stream.</p>\n",
       "<p>You have completed Day 1! You can <span class=\"share\">[Share<span class=\"share-content\">on <a href=\"https://bsky.app/intent/compose?text=I+just+completed+%22Chronal+Calibration%22+%2D+Day+1+%2D+Advent+of+Code+2018+%23AdventOfCode+https%3A%2F%2Fadventofcode%2Ecom%2F2018%2Fday%2F1\" target=\"_blank\">Bluesky</a> <a href=\"https://twitter.com/intent/tweet?text=I+just+completed+%22Chronal+Calibration%22+%2D+Day+1+%2D+Advent+of+Code+2018&amp;url=https%3A%2F%2Fadventofcode%2Ecom%2F2018%2Fday%2F1&amp;related=ericwastl&amp;hashtags=AdventOfCode\" target=\"_blank\">Twitter</a> <a href=\"javascript:void(0);\" onclick=\"var ms; try{ms=localStorage.getItem('mastodon.server')}finally{} if(typeof ms!=='string')ms=''; ms=prompt('Mastodon Server?',ms); if(typeof ms==='string' &amp;&amp; ms.length){this.href='https://'+ms+'/share?text=I+just+completed+%22Chronal+Calibration%22+%2D+Day+1+%2D+Advent+of+Code+2018+%23AdventOfCode+https%3A%2F%2Fadventofcode%2Ecom%2F2018%2Fday%2F1';try{localStorage.setItem('mastodon.server',ms);}finally{}}else{return false;}\" target=\"_blank\">Mastodon</a></span>]</span> this victory or <a href=\"/2018\">[Return to Your Advent Calendar]</a>.</p>\n",
       "        </div>"
      ]
     },
     "execution_count": 9,
     "metadata": {},
     "output_type": "execute_result"
    }
   ],
   "execution_count": 9
  },
  {
   "metadata": {},
   "cell_type": "code",
   "outputs": [],
   "execution_count": null,
   "source": ""
  }
 ],
 "metadata": {
  "kernelspec": {
   "display_name": "Kotlin",
   "language": "kotlin",
   "name": "kotlin"
  },
  "language_info": {
   "name": "kotlin",
   "version": "1.9.23",
   "mimetype": "text/x-kotlin",
   "file_extension": ".kt",
   "pygments_lexer": "kotlin",
   "codemirror_mode": "text/x-kotlin",
   "nbconvert_exporter": ""
  },
  "ktnbPluginMetadata": {
   "projectDependencies": [
    "aoc.main"
   ]
  }
 },
 "nbformat": 4,
 "nbformat_minor": 0
}
